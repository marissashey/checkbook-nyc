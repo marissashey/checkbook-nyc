{
 "cells": [
  {
   "cell_type": "markdown",
   "id": "ab56fd5f-0504-4a85-ad42-27649c4eea07",
   "metadata": {},
   "source": [
    "# Sandbox for CheckbookNYC API "
   ]
  },
  {
   "cell_type": "code",
   "execution_count": 1,
   "id": "2572b2e4",
   "metadata": {},
   "outputs": [],
   "source": [
    "import requests\n",
    "import xml.etree.ElementTree as ET\n",
    "import time\n",
    "from pathlib import Path\n",
    "import xml.dom.minidom"
   ]
  },
  {
   "cell_type": "code",
   "execution_count": 33,
   "id": "6d7b7952-4b27-4bbc-be9e-60e281e384ea",
   "metadata": {},
   "outputs": [],
   "source": [
    "API_URL = \"https://www.checkbooknyc.com/api\"\n",
    "TEMP_XML_FILE = Path(\"tmp_latest_sandbox_response.xml\")  # same temp file each time\n",
    "TIMEOUT = (10, 300) # connect_timeout, read_timeout for requests"
   ]
  },
  {
   "cell_type": "code",
   "execution_count": 34,
   "id": "42754152",
   "metadata": {
    "scrolled": true
   },
   "outputs": [
    {
     "name": "stdout",
     "output_type": "stream",
     "text": [
      "main site status: 200\n"
     ]
    }
   ],
   "source": [
    "# session set up\n",
    "session = requests.Session()\n",
    "session.headers.update({\n",
    "    'content-type': 'application/xml',\n",
    "    'user-agent': 'mozilla/5.0 (windows nt 10.0; win64; x64) applewebkit/537.36'\n",
    "})\n",
    "\n",
    "# **** visit main site initially to bypass incapsula ****\n",
    "response = session.get('https://www.checkbooknyc.com/', timeout=TIMEOUT)\n",
    "print(f\"main site status: {response.status_code}\")\n",
    "time.sleep(2)\n",
    "\n",
    "session.headers.update({\n",
    "    'content-type': 'application/xml',\n",
    "    'referer': 'https://www.checkbooknyc.com/',\n",
    "    'origin': 'https://www.checkbooknyc.com'\n",
    "})"
   ]
  },
  {
   "cell_type": "code",
   "execution_count": null,
   "id": "35cd8ab0-779e-4b76-ae64-177265d33e79",
   "metadata": {},
   "outputs": [],
   "source": []
  },
  {
   "cell_type": "code",
   "execution_count": null,
   "id": "d555bd13-0e1b-42a5-a19d-0c70c8bbdd95",
   "metadata": {},
   "outputs": [],
   "source": []
  },
  {
   "cell_type": "markdown",
   "id": "4c4b26db-8eb1-4d5f-8328-bfa4c8b9b2a6",
   "metadata": {},
   "source": [
    "## Helper: `fetch_xml`"
   ]
  },
  {
   "cell_type": "code",
   "execution_count": 35,
   "id": "94bbeedb",
   "metadata": {
    "scrolled": true
   },
   "outputs": [],
   "source": [
    "def fetch_xml(payload: str) -> ET.Element:\n",
    "    \"\"\"\n",
    "    fetch XML response given `payload`: xml body\n",
    "    then overwrite the temp file.\n",
    "    \"\"\"\n",
    "    response = session.post(API_URL, data=payload, timeout=TIMEOUT)\n",
    "    response.raise_for_status()\n",
    "\n",
    "    # decode content\n",
    "    xml_str = response.content.decode('utf-8')\n",
    "\n",
    "    #  save to temp file\n",
    "   \n",
    "    with open(TEMP_XML_FILE, \"w\", encoding=\"utf-8\") as f:\n",
    "        f.write(xml_str)\n",
    "        print(f\"XML response saved to {TEMP_XML_FILE}\")\n",
    "\n",
    "    if not xml_str.strip().startswith(\"<\"):\n",
    "        raise ValueError(\"Response is not XML:\\n\" + xml_str[:300])\n",
    "\n",
    "    # debug print\n",
    "    xml_str = response.content.decode(\"utf-8\")\n",
    "    print(xml_str[:500])  # print first 500 chars\n",
    "    \n",
    "    # parse XML\n",
    "    root = ET.fromstring(xml_str)\n",
    "\n",
    "    return root # ET.Element: parsed XML root"
   ]
  },
  {
   "cell_type": "code",
   "execution_count": null,
   "id": "7fd2cfdd-2aaf-4b15-aa81-3ed3aaf27919",
   "metadata": {},
   "outputs": [],
   "source": []
  },
  {
   "cell_type": "markdown",
   "id": "1587c9bf-0314-446e-838f-5edc2ae41028",
   "metadata": {},
   "source": [
    "## XML Requests"
   ]
  },
  {
   "cell_type": "markdown",
   "id": "f3dba17b-6dac-4997-9e10-7d5a9d75ca91",
   "metadata": {},
   "source": [
    "### 1. Example from Docs\n",
    "https://www.checkbooknyc.com/spending-api#sample-request-spending"
   ]
  },
  {
   "cell_type": "code",
   "execution_count": 36,
   "id": "9d8ed4dd",
   "metadata": {},
   "outputs": [],
   "source": [
    "xml_example=\"\"\"\n",
    "<request>\n",
    "  <type_of_data>Spending</type_of_data>\n",
    "  <records_from>1</records_from>\n",
    "  <max_records>1000</max_records>\n",
    "  <search_criteria>\n",
    "    <criteria>\n",
    "      <name>agency_code</name>\n",
    "      <type>value</type>\n",
    "      <value>039</value>\n",
    "    </criteria>\n",
    "  </search_criteria>\n",
    "  <response_columns>\n",
    "    <column>agency</column>\n",
    "    <column>budget_code</column>\n",
    "  </response_columns>\n",
    "</request>\n",
    "\"\"\""
   ]
  },
  {
   "cell_type": "code",
   "execution_count": 37,
   "id": "49dd7626-f9f2-40fe-a8b1-97acd122ae7c",
   "metadata": {
    "scrolled": true
   },
   "outputs": [
    {
     "name": "stdout",
     "output_type": "stream",
     "text": [
      "XML response saved to tmp_latest_sandbox_response.xml\n",
      "<?xml version=\"1.0\"?>\n",
      "<response>\n",
      "  <status>\n",
      "    <result>success</result>\n",
      "  </status>\n",
      "  <request_criteria>\n",
      "    <request>\n",
      "      <type_of_data>Spending</type_of_data>\n",
      "      <records_from>1</records_from>\n",
      "      <max_records>1000</max_records>\n",
      "      <search_criteria>\n",
      "        <criteria>\n",
      "          <name>agency_code</name>\n",
      "          <type>value</type>\n",
      "          <value>039</value>\n",
      "        </criteria>\n",
      "      </search_criteria>\n",
      "      <response_columns>\n",
      "        <column>agency</column>\n",
      "        <column>budget_\n"
     ]
    },
    {
     "data": {
      "text/plain": [
       "<Element 'response' at 0x10945e750>"
      ]
     },
     "execution_count": 37,
     "metadata": {},
     "output_type": "execute_result"
    }
   ],
   "source": [
    "fetch_xml(xml_example)"
   ]
  },
  {
   "cell_type": "code",
   "execution_count": null,
   "id": "55395980-9458-41f4-93a8-672e40f62d55",
   "metadata": {},
   "outputs": [],
   "source": []
  },
  {
   "cell_type": "markdown",
   "id": "3ee2f8ae-0668-42dd-beb8-760e16c9ec0e",
   "metadata": {},
   "source": [
    "### 2. Without `search_criteria` filters"
   ]
  },
  {
   "cell_type": "code",
   "execution_count": 19,
   "id": "ece1b643",
   "metadata": {},
   "outputs": [],
   "source": [
    "# simple spending data (no specific criteria)\n",
    "xml_unfiltered = \"\"\"<request>\n",
    "  <type_of_data>Spending</type_of_data>\n",
    "  <records_from>1</records_from>\n",
    "  <max_records>3</max_records>\n",
    "  <response_columns>\n",
    "    <column>agency</column>\n",
    "    <column>payee_name</column>\n",
    "    <column>check_amount</column>\n",
    "    <column>fiscal_year</column>\n",
    "  </response_columns>\n",
    "</request>\"\"\""
   ]
  },
  {
   "cell_type": "code",
   "execution_count": 20,
   "id": "1d1a3a5f-c573-4ac0-ae67-2545e1684c97",
   "metadata": {
    "scrolled": true
   },
   "outputs": [
    {
     "name": "stdout",
     "output_type": "stream",
     "text": [
      "XML response saved to tmp_latest_response.xml\n",
      "<?xml version=\"1.0\"?>\n",
      "<response>\n",
      "  <status>\n",
      "    <result>success</result>\n",
      "  </status>\n",
      "  <request_criteria>\n",
      "    <request>\n",
      "      <type_of_data>Spending</type_of_data>\n",
      "      <records_from>1</records_from>\n",
      "      <max_records>3</max_records>\n",
      "      <response_columns>\n",
      "        <column>agency</column>\n",
      "        <column>payee_name</column>\n",
      "        <column>check_amount</column>\n",
      "        <column>fiscal_year</column>\n",
      "      </response_columns>\n",
      "    </request>\n",
      "  </request_criteria>\n",
      "  <result_records>\n",
      "    <record_co\n"
     ]
    },
    {
     "data": {
      "text/plain": [
       "<Element 'response' at 0x1094b1170>"
      ]
     },
     "execution_count": 20,
     "metadata": {},
     "output_type": "execute_result"
    }
   ],
   "source": [
    "fetch_xml(xml_unfiltered)"
   ]
  },
  {
   "cell_type": "code",
   "execution_count": null,
   "id": "63d6f3c7-7159-4fb0-9bf4-05fe10b051df",
   "metadata": {},
   "outputs": [],
   "source": []
  },
  {
   "cell_type": "markdown",
   "id": "5e0adb7a-78d9-4f0c-9ae0-a26a6af29f10",
   "metadata": {},
   "source": [
    "### 3. Overshooting total records"
   ]
  },
  {
   "cell_type": "code",
   "execution_count": 21,
   "id": "e40041d0-5dbf-47b4-beb7-9dfce3904ac0",
   "metadata": {},
   "outputs": [],
   "source": [
    "# stop point / base case / returning a nonexistent record\n",
    "xml_overshoot=f\"\"\"\n",
    "<request>\n",
    "  <type_of_data>Spending</type_of_data>\n",
    "  <records_from>44000000</records_from>\n",
    "  <max_records>2</max_records>\n",
    "  <search_criteria>\n",
    "    <name>fiscal_year</name>\n",
    "    <type>value</type>\n",
    "    <value>2025</value>\n",
    "  </search_criteria>\n",
    "  \n",
    "  <response_columns>\n",
    "    <column>agency</column>\n",
    "    <column>fiscal_year</column>\n",
    "    <column>budget_code</column>\n",
    "  </response_columns>\n",
    "</request>\n",
    "\"\"\""
   ]
  },
  {
   "cell_type": "code",
   "execution_count": 22,
   "id": "263cb643-be90-439f-890a-4e9e086660e0",
   "metadata": {
    "scrolled": true
   },
   "outputs": [
    {
     "name": "stdout",
     "output_type": "stream",
     "text": [
      "XML response saved to tmp_latest_response.xml\n",
      "<?xml version=\"1.0\"?>\n",
      "<response>\n",
      "  <status>\n",
      "    <result>success</result>\n",
      "  </status>\n",
      "  <request_criteria>\n",
      "    <request>\n",
      "      <type_of_data>Spending</type_of_data>\n",
      "      <records_from>44000000</records_from>\n",
      "      <max_records>2</max_records>\n",
      "      <search_criteria>\n",
      "        <name>fiscal_year</name>\n",
      "        <type>value</type>\n",
      "        <value>2025</value>\n",
      "      </search_criteria>\n",
      "      <response_columns>\n",
      "        <column>agency</column>\n",
      "        <column>fiscal_year</column>\n",
      "        <column>budget_cod\n"
     ]
    },
    {
     "data": {
      "text/plain": [
       "<Element 'response' at 0x1094b3d30>"
      ]
     },
     "execution_count": 22,
     "metadata": {},
     "output_type": "execute_result"
    }
   ],
   "source": [
    "fetch_xml(xml_overshoot)"
   ]
  },
  {
   "cell_type": "code",
   "execution_count": null,
   "id": "6bfb91aa-6ee6-4fa1-be87-e26878cd0779",
   "metadata": {},
   "outputs": [],
   "source": []
  },
  {
   "cell_type": "markdown",
   "id": "b87766b8-cbfc-40de-bcbb-5fe76db6fec9",
   "metadata": {},
   "source": [
    "## Verify XML is well-formed"
   ]
  },
  {
   "cell_type": "code",
   "execution_count": 24,
   "id": "468c2111-9dbc-4292-aa9b-a12c6d58e0a3",
   "metadata": {},
   "outputs": [],
   "source": [
    "cur_xml_str = xml_overshoot"
   ]
  },
  {
   "cell_type": "code",
   "execution_count": 25,
   "id": "b322cd92-e5c6-4c39-9be5-a444cf3f007f",
   "metadata": {},
   "outputs": [
    {
     "name": "stdout",
     "output_type": "stream",
     "text": [
      "XML is well-formed\n"
     ]
    }
   ],
   "source": [
    "try:\n",
    "    xml.dom.minidom.parseString(cur_xml_str)  # will raise if invalid\n",
    "    print(\"XML is well-formed\")\n",
    "except Exception as e:\n",
    "    print(\"Invalid XML:\", e)\n"
   ]
  },
  {
   "cell_type": "code",
   "execution_count": null,
   "id": "69d50891-8d9b-476e-95a3-53d0b1ababc1",
   "metadata": {},
   "outputs": [],
   "source": []
  },
  {
   "cell_type": "markdown",
   "id": "3ce0b35a-154c-402c-b80f-70a20242ebc1",
   "metadata": {},
   "source": [
    "## Download XML Response"
   ]
  },
  {
   "cell_type": "code",
   "execution_count": 27,
   "id": "7d52915b-94d4-40d0-8f63-58a34677ca21",
   "metadata": {
    "scrolled": true
   },
   "outputs": [
    {
     "name": "stdout",
     "output_type": "stream",
     "text": [
      "XML response saved to tmp_latest_response.xml\n",
      "<?xml version=\"1.0\"?>\n",
      "<response>\n",
      "  <status>\n",
      "    <result>success</result>\n",
      "  </status>\n",
      "  <request_criteria>\n",
      "    <request>\n",
      "      <type_of_data>Spending</type_of_data>\n",
      "      <records_from>1</records_from>\n",
      "      <max_records>3</max_records>\n",
      "      <response_columns>\n",
      "        <column>agency</column>\n",
      "        <column>payee_name</column>\n",
      "        <column>check_amount</column>\n",
      "        <column>fiscal_year</column>\n",
      "      </response_columns>\n",
      "    </request>\n",
      "  </request_criteria>\n",
      "  <result_records>\n",
      "    <record_co\n"
     ]
    }
   ],
   "source": [
    "response = fetch_xml(xml_unfiltered)"
   ]
  },
  {
   "cell_type": "code",
   "execution_count": null,
   "id": "1ca46fdc-4482-4127-9889-50078122a293",
   "metadata": {},
   "outputs": [],
   "source": []
  },
  {
   "cell_type": "code",
   "execution_count": null,
   "id": "9e0ff610-d658-4999-8851-f6b9458110bd",
   "metadata": {},
   "outputs": [],
   "source": []
  },
  {
   "cell_type": "markdown",
   "id": "119f3b41-8113-4791-940c-0dc4c45104f4",
   "metadata": {},
   "source": [
    "# Reference"
   ]
  },
  {
   "cell_type": "markdown",
   "id": "30fd3486-e6aa-4350-a7c5-91ae4fc234bb",
   "metadata": {},
   "source": [
    "https://www.checkbooknyc.com/spending-api#sample-request-spending"
   ]
  },
  {
   "cell_type": "code",
   "execution_count": null,
   "id": "de484986-8f73-481d-9e9f-9ac7482c99fc",
   "metadata": {},
   "outputs": [],
   "source": []
  }
 ],
 "metadata": {
  "kernelspec": {
   "display_name": "Python (venv)",
   "language": "python",
   "name": "venv"
  },
  "language_info": {
   "codemirror_mode": {
    "name": "ipython",
    "version": 3
   },
   "file_extension": ".py",
   "mimetype": "text/x-python",
   "name": "python",
   "nbconvert_exporter": "python",
   "pygments_lexer": "ipython3",
   "version": "3.13.5"
  }
 },
 "nbformat": 4,
 "nbformat_minor": 5
}
