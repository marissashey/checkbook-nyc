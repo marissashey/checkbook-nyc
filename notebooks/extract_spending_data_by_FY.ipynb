{
 "cells": [
  {
   "cell_type": "markdown",
   "id": "7faa8611-11cf-4667-a3a4-f2ff809bb931",
   "metadata": {},
   "source": [
    "# Extract Spending Data by Fiscal Year"
   ]
  },
  {
   "cell_type": "code",
   "execution_count": 23,
   "id": "4093848b-4d72-4535-8156-fe0910e0df5c",
   "metadata": {},
   "outputs": [
    {
     "ename": "ModuleNotFoundError",
     "evalue": "No module named 'tqdm.notebooks'",
     "output_type": "error",
     "traceback": [
      "\u001b[31m---------------------------------------------------------------------------\u001b[39m",
      "\u001b[31mModuleNotFoundError\u001b[39m                       Traceback (most recent call last)",
      "\u001b[36mCell\u001b[39m\u001b[36m \u001b[39m\u001b[32mIn[23]\u001b[39m\u001b[32m, line 8\u001b[39m\n\u001b[32m      6\u001b[39m \u001b[38;5;28;01mimport\u001b[39;00m\u001b[38;5;250m \u001b[39m\u001b[34;01mxml\u001b[39;00m\u001b[34;01m.\u001b[39;00m\u001b[34;01mdom\u001b[39;00m\u001b[34;01m.\u001b[39;00m\u001b[34;01mminidom\u001b[39;00m\n\u001b[32m      7\u001b[39m \u001b[38;5;28;01mimport\u001b[39;00m\u001b[38;5;250m \u001b[39m\u001b[34;01mmath\u001b[39;00m\n\u001b[32m----> \u001b[39m\u001b[32m8\u001b[39m \u001b[38;5;28;01mfrom\u001b[39;00m\u001b[38;5;250m \u001b[39m\u001b[34;01mtqdm\u001b[39;00m\u001b[34;01m.\u001b[39;00m\u001b[34;01mnotebooks\u001b[39;00m\u001b[38;5;250m \u001b[39m\u001b[38;5;28;01mimport\u001b[39;00m tqdm\n\u001b[32m      9\u001b[39m \u001b[38;5;28;01mimport\u001b[39;00m\u001b[38;5;250m \u001b[39m\u001b[34;01mpyarrow\u001b[39;00m\u001b[38;5;250m \u001b[39m\u001b[38;5;28;01mas\u001b[39;00m\u001b[38;5;250m \u001b[39m\u001b[34;01mpa\u001b[39;00m\n\u001b[32m     10\u001b[39m \u001b[38;5;28;01mimport\u001b[39;00m\u001b[38;5;250m \u001b[39m\u001b[34;01mpyarrow\u001b[39;00m\u001b[34;01m.\u001b[39;00m\u001b[34;01mparquet\u001b[39;00m\u001b[38;5;250m \u001b[39m\u001b[38;5;28;01mas\u001b[39;00m\u001b[38;5;250m \u001b[39m\u001b[34;01mpq\u001b[39;00m\n",
      "\u001b[31mModuleNotFoundError\u001b[39m: No module named 'tqdm.notebooks'"
     ]
    }
   ],
   "source": [
    "import requests\n",
    "import xml.etree.ElementTree as ET\n",
    "import time\n",
    "import pandas as pd\n",
    "from pathlib import Path\n",
    "import xml.dom.minidom\n",
    "import math\n",
    "from tqdm import tqdm\n",
    "import pyarrow as pa\n",
    "import pyarrow.parquet as pq"
   ]
  },
  {
   "cell_type": "code",
   "execution_count": 2,
   "id": "eb2f997a-ca5c-4a86-ae28-ccce257e7647",
   "metadata": {},
   "outputs": [],
   "source": [
    "API_URL = \"https://www.checkbooknyc.com/api\"\n",
    "TEMP_XML_FILE = Path(\"tmp_latest_response.xml\")  # same temp file each time\n",
    "TIMEOUT = (300, 300) # connect_timeout, read_timeout for requests\n",
    "OUTPUT_DIR = Path(\"checkbook_data\")\n",
    "OUTPUT_DIR.mkdir(exist_ok=True)\n",
    "BATCH_SIZE = 20000  # API's retrieval limit on records per request"
   ]
  },
  {
   "cell_type": "code",
   "execution_count": 3,
   "id": "6704becc-099f-45d0-90c4-e4e42d7526bf",
   "metadata": {
    "scrolled": true
   },
   "outputs": [
    {
     "name": "stdout",
     "output_type": "stream",
     "text": [
      "main site status: 200\n"
     ]
    }
   ],
   "source": [
    "# session set up: bypass incapsula bot protection using session mgmt + browser headers\n",
    "session = requests.Session()\n",
    "HEADERS = {\n",
    "    'content-type': 'application/xml',\n",
    "    'user-agent': 'mozilla/5.0 (windows nt 10.0; win64; x64) applewebkit/537.36'\n",
    "}\n",
    "\n",
    "session.headers.update(HEADERS)\n",
    "\n",
    "# * visit main site initially *\n",
    "response = session.get('https://www.checkbooknyc.com/', timeout=TIMEOUT)\n",
    "print(f\"main site status: {response.status_code}\")\n",
    "time.sleep(2)\n",
    "\n",
    "session.headers.update({\n",
    "    'content-type': 'application/xml',\n",
    "    'referer': 'https://www.checkbooknyc.com/',\n",
    "    'origin': 'https://www.checkbooknyc.com'\n",
    "})"
   ]
  },
  {
   "cell_type": "code",
   "execution_count": null,
   "id": "c8602086-cec3-4513-83fd-4272ca0c70f0",
   "metadata": {
    "collapsed": true,
    "jupyter": {
     "outputs_hidden": true
    }
   },
   "outputs": [],
   "source": []
  },
  {
   "cell_type": "markdown",
   "id": "5c6b2288-3cec-464f-b996-5b81697e779e",
   "metadata": {},
   "source": [
    "## Helpers"
   ]
  },
  {
   "cell_type": "code",
   "execution_count": 4,
   "id": "f499b50b-914d-4cc1-9092-3044a01a0b4b",
   "metadata": {},
   "outputs": [],
   "source": [
    "def fetch_xml(payload: str, verbose: bool = False) -> ET.Element:\n",
    "    response = session.post(API_URL, data=payload, headers=HEADERS, timeout=TIMEOUT)\n",
    "    if verbose: \n",
    "        print(response.text[:500])\n",
    "    response.raise_for_status()\n",
    "\n",
    "    if verbose:\n",
    "        xml_str = response.content.decode('utf-8')\n",
    "        print(xml_str)\n",
    "        \n",
    "    return ET.fromstring(response.content)\n",
    "\n",
    "def get_record_count(xml_root: ET.Element) -> int:\n",
    "    count_tag = xml_root.find(\".//result_records/record_count\")\n",
    "    return int(count_tag.text) if count_tag is not None else 0\n",
    "\n"
   ]
  },
  {
   "cell_type": "code",
   "execution_count": 5,
   "id": "42eda648-0e97-4926-be37-99408b91a72a",
   "metadata": {},
   "outputs": [
    {
     "data": {
      "text/plain": [
       "'25'"
      ]
     },
     "execution_count": 5,
     "metadata": {},
     "output_type": "execute_result"
    }
   ],
   "source": [
    "y = \"2025\"\n",
    "y[2:]"
   ]
  },
  {
   "cell_type": "code",
   "execution_count": null,
   "id": "cfd3e120-2817-4fdc-971a-1379830046c8",
   "metadata": {
    "collapsed": true,
    "jupyter": {
     "outputs_hidden": true
    }
   },
   "outputs": [],
   "source": []
  },
  {
   "cell_type": "markdown",
   "id": "d1e7dfd7-bb5b-422f-8f15-c090578d63b8",
   "metadata": {},
   "source": [
    "## Initial Metadata Request: Determining Pagination"
   ]
  },
  {
   "cell_type": "code",
   "execution_count": 6,
   "id": "12d40c5a-508b-4f6d-8d2e-c448254bbcc9",
   "metadata": {},
   "outputs": [],
   "source": [
    "fiscal_year = 2025"
   ]
  },
  {
   "cell_type": "code",
   "execution_count": 7,
   "id": "435e269d-bc19-454a-ba60-aa93de36f783",
   "metadata": {
    "jupyter": {
     "source_hidden": true
    }
   },
   "outputs": [],
   "source": [
    "seed_request=f\"\"\"\n",
    "<request>\n",
    "  <type_of_data>Spending</type_of_data>\n",
    "  <records_from>1</records_from>\n",
    "  <max_records>1</max_records>\n",
    "  <search_criteria>\n",
    "   <criteria>\n",
    "      <name>fiscal_year</name>\n",
    "      <type>value</type>\n",
    "      <value>{fiscal_year}</value>\n",
    "    </criteria>\n",
    "  </search_criteria>\n",
    "  <response_columns/>\n",
    "</request>\n",
    "\"\"\""
   ]
  },
  {
   "cell_type": "code",
   "execution_count": 8,
   "id": "6c7b64e9-8442-469a-abf3-5b8f55d66990",
   "metadata": {
    "scrolled": true
   },
   "outputs": [
    {
     "name": "stdout",
     "output_type": "stream",
     "text": [
      "<?xml version=\"1.0\"?>\n",
      "<response>\n",
      "  <status>\n",
      "    <result>success</result>\n",
      "  </status>\n",
      "  <request_criteria>\n",
      "    <request>\n",
      "      <type_of_data>Spending</type_of_data>\n",
      "      <records_from>1</records_from>\n",
      "      <max_records>1</max_records>\n",
      "      <search_criteria>\n",
      "        <criteria>\n",
      "          <name>fiscal_year</name>\n",
      "          <type>value</type>\n",
      "          <value>2025</value>\n",
      "        </criteria>\n",
      "      </search_criteria>\n",
      "      <response_columns/>\n",
      "    </request>\n",
      "  </request_criteria>\n",
      "  <result_records>\n",
      "\n",
      "<?xml version=\"1.0\"?>\n",
      "<response>\n",
      "  <status>\n",
      "    <result>success</result>\n",
      "  </status>\n",
      "  <request_criteria>\n",
      "    <request>\n",
      "      <type_of_data>Spending</type_of_data>\n",
      "      <records_from>1</records_from>\n",
      "      <max_records>1</max_records>\n",
      "      <search_criteria>\n",
      "        <criteria>\n",
      "          <name>fiscal_year</name>\n",
      "          <type>value</type>\n",
      "          <value>2025</value>\n",
      "        </criteria>\n",
      "      </search_criteria>\n",
      "      <response_columns/>\n",
      "    </request>\n",
      "  </request_criteria>\n",
      "  <result_records>\n",
      "    <record_count>3157155</record_count>\n",
      "    <spending_transactions>\n",
      "      <transaction>\n",
      "        <agency>Department of Education</agency>\n",
      "        <associated_prime_vendor>N/A</associated_prime_vendor>\n",
      "        <budget_code>4301</budget_code>\n",
      "        <capital_project/>\n",
      "        <contract_id/>\n",
      "        <mocs_registered>No</mocs_registered>\n",
      "        <contract_purpose/>\n",
      "        <check_amount>153402038.46</check_amount>\n",
      "        <department>GE INSTR &amp; SCH LEADERSHIP - PS</department>\n",
      "        <document_id/>\n",
      "        <expense_category>Payroll Summary</expense_category>\n",
      "        <fiscal_year>2025</fiscal_year>\n",
      "        <industry/>\n",
      "        <issue_date>2025-02-14</issue_date>\n",
      "        <mwbe_category>Individuals and Others</mwbe_category>\n",
      "        <woman_owned_business>No </woman_owned_business>\n",
      "        <emerging_business>No </emerging_business>\n",
      "        <payee_name>GE INSTR &amp; SCH LEADERSHIP - PS</payee_name>\n",
      "        <spending_category>Payroll</spending_category>\n",
      "        <sub_contract_reference_id/>\n",
      "        <sub_vendor>No</sub_vendor>\n",
      "      </transaction>\n",
      "    </spending_transactions>\n",
      "  </result_records>\n",
      "</response>\n",
      "\n"
     ]
    }
   ],
   "source": [
    "seed_root = fetch_xml(seed_request,verbose=True)"
   ]
  },
  {
   "cell_type": "code",
   "execution_count": 9,
   "id": "1049c6b6-90e1-4e41-922f-3f4223c1bcd7",
   "metadata": {},
   "outputs": [
    {
     "name": "stdout",
     "output_type": "stream",
     "text": [
      "\n",
      "Seed Request Results for FY 2025\n",
      "=========================================\n",
      "Total retrievable records: 3157155\n",
      "Batches needed: 158\n",
      "\n"
     ]
    }
   ],
   "source": [
    "retrievable_records = get_record_count(seed_root)\n",
    "batches_needed = math.ceil(retrievable_records / BATCH_SIZE)\n",
    "\n",
    "print(f\"\"\"\n",
    "Seed Request Results for FY {fiscal_year}\n",
    "=========================================\n",
    "Total retrievable records: {retrievable_records}\n",
    "Batches needed: {batches_needed}\n",
    "\"\"\")"
   ]
  },
  {
   "cell_type": "code",
   "execution_count": null,
   "id": "9acd1d33-adcc-4b4d-8bf0-3461578ea8b2",
   "metadata": {
    "collapsed": true,
    "jupyter": {
     "outputs_hidden": true
    }
   },
   "outputs": [],
   "source": []
  },
  {
   "cell_type": "markdown",
   "id": "87c9346f-6176-4075-b5cd-4c39c2b3de8a",
   "metadata": {},
   "source": [
    "## Start Paginated Fetch-to-Appends"
   ]
  },
  {
   "cell_type": "code",
   "execution_count": null,
   "id": "71a3c520-34c7-4bfc-ae3e-38bf3f263b52",
   "metadata": {
    "collapsed": true,
    "jupyter": {
     "outputs_hidden": true
    }
   },
   "outputs": [],
   "source": []
  },
  {
   "cell_type": "markdown",
   "id": "ba4291ee-f61d-4650-baea-a7781ede001d",
   "metadata": {},
   "source": [
    "## Fetch and Save FY Spending"
   ]
  },
  {
   "cell_type": "markdown",
   "id": "f3e78ca5-f430-4ead-a8df-89f654e866d2",
   "metadata": {},
   "source": [
    "### Function and Helpers"
   ]
  },
  {
   "cell_type": "code",
   "execution_count": 19,
   "id": "9026216a-a90f-444d-93c2-a2b7dcaa3154",
   "metadata": {},
   "outputs": [],
   "source": [
    "tqdm._instances.clear()\n",
    "\n",
    "def save_parquet_append(df: pd.DataFrame, out_file: Path) -> int:\n",
    "    out_file = Path(out_file)\n",
    "    if out_file.exists():\n",
    "        try:\n",
    "            pa.unregister_extension_type(\"pandas.period\")\n",
    "        except KeyError:\n",
    "            pass\n",
    "        existing_df = pd.read_parquet(out_file, engine=\"pyarrow\")\n",
    "        original_count = len(existing_df)\n",
    "        combined = pd.concat([existing_df, df], ignore_index=True)\n",
    "        deduped = combined.drop_duplicates()\n",
    "        \n",
    "        # fix: calculate actual new records added\n",
    "        final_count = len(deduped)\n",
    "        new_records_attempted = len(df)\n",
    "        \n",
    "        # net change can be negative, but \"added\" should be non-negative\n",
    "        net_change = final_count - original_count\n",
    "        actually_added = max(0, net_change)  # never negative\n",
    "        \n",
    "        deduped.to_parquet(out_file, engine=\"pyarrow\", index=False)\n",
    "        return actually_added\n",
    "    else:\n",
    "        df.to_parquet(out_file, engine=\"pyarrow\", index=False)\n",
    "        return len(df)\n",
    "\n",
    "        \n",
    "def parse_transactions(xml_root: ET.Element) -> pd.DataFrame:\n",
    "    \"\"\"convert <transaction> elements into dataframe rows\"\"\"\n",
    "    records = []\n",
    "    for txn in xml_root.findall(\".//transaction\"):\n",
    "        row = {child.tag: (child.text or \"\").strip() for child in txn}\n",
    "        records.append(row)\n",
    "    return pd.DataFrame(records)\n",
    "\n",
    "def download_all_spending(xml_template: str, year: int, total_available: int, verbose: bool = True):\n",
    "    \"\"\"download all available spending records for given year\"\"\"\n",
    "    from tqdm import tqdm\n",
    "    import time\n",
    "    \n",
    "    out_file = OUTPUT_DIR / f\"spending_{year}.parquet\"\n",
    "    \n",
    "    # check current progress\n",
    "    if out_file.exists():\n",
    "        existing_df = pd.read_parquet(out_file)\n",
    "        records_downloaded = len(existing_df)\n",
    "    else:\n",
    "        records_downloaded = 0\n",
    "    \n",
    "    records_remaining = total_available - records_downloaded\n",
    "    \n",
    "    if records_remaining <= 0:\n",
    "        if verbose:\n",
    "            print(f\"download already complete: {records_downloaded:,} records\")\n",
    "        return\n",
    "    \n",
    "    if verbose:\n",
    "        print(f\"downloading {records_remaining:,} remaining records (total: {total_available:,})\")\n",
    "    \n",
    "    with tqdm(total=records_remaining, desc=f\"FY{year}\", unit=\"records\", ncols=100) as pbar:\n",
    "        while records_remaining > 0:\n",
    "            # calculate batch size for this request\n",
    "            batch_size = min(BATCH_SIZE, records_remaining)\n",
    "            \n",
    "            try:\n",
    "                # download one batch\n",
    "                records_saved = download_spending_atomic(xml_template, year, batch_size, verbose=False)\n",
    "                \n",
    "                # update progress\n",
    "                records_remaining -= records_saved\n",
    "                pbar.update(records_saved)\n",
    "                \n",
    "                if verbose:\n",
    "                    total_now = total_available - records_remaining\n",
    "                    tqdm.write(f\"batch complete: {records_saved:,} saved, {total_now:,} total, {records_remaining:,} remaining\")\n",
    "                \n",
    "                # rate limiting - api requires 1 request per second\n",
    "                time.sleep(1.1)\n",
    "                \n",
    "            except Exception as e:\n",
    "                tqdm.write(f\"batch failed: {e}\")\n",
    "                tqdm.write(\"retrying in 5 seconds...\")\n",
    "                time.sleep(5)\n",
    "                # continue loop without updating counters - will retry same batch\n",
    "    \n",
    "    if verbose:\n",
    "        final_df = pd.read_parquet(out_file)\n",
    "        print(f\"download complete: {len(final_df):,} total records saved\")\n",
    "\n",
    "# usage:\n",
    "xml_template = \"\"\"<request>\n",
    "  <type_of_data>Spending</type_of_data>\n",
    "  <records_from>{records_from}</records_from>\n",
    "  <max_records>{max_records}</max_records>\n",
    "  <search_criteria>\n",
    "   <criteria>\n",
    "      <name>fiscal_year</name>\n",
    "      <type>value</type>\n",
    "      <value>{fiscal_year}</value>\n",
    "    </criteria>\n",
    "  </search_criteria>\n",
    "  <response_columns>\n",
    "    <column>agency</column>\n",
    "    <column>payee_name</column>\n",
    "    <column>check_amount</column>\n",
    "    <column>issue_date</column>\n",
    "    <column>document_id</column>\n",
    "    <column>spending_category</column>\n",
    "    <column>department</column>\n",
    "    <column>fiscal_year</column>\n",
    "  </response_columns>\n",
    "</request>\"\"\""
   ]
  },
  {
   "cell_type": "code",
   "execution_count": 20,
   "id": "0099efd4-5ac5-477b-9da2-dfb5ae8e492f",
   "metadata": {
    "collapsed": true,
    "jupyter": {
     "outputs_hidden": true
    },
    "scrolled": true
   },
   "outputs": [
    {
     "name": "stdout",
     "output_type": "stream",
     "text": [
      "downloading 3,117,155 remaining records (total: 3,157,155)\n"
     ]
    },
    {
     "name": "stderr",
     "output_type": "stream",
     "text": [
      "FY2025:   1%|▎                                       | 20000/3117155 [00:04<11:48, 4372.98records/s]"
     ]
    },
    {
     "name": "stdout",
     "output_type": "stream",
     "text": [
      "batch complete: 20,000 saved, 60,000 total, 3,097,155 remaining\n"
     ]
    },
    {
     "name": "stderr",
     "output_type": "stream",
     "text": [
      "FY2025:   1%|▌                                       | 40000/3117155 [00:10<13:49, 3710.48records/s]"
     ]
    },
    {
     "name": "stdout",
     "output_type": "stream",
     "text": [
      "batch complete: 20,000 saved, 80,000 total, 3,077,155 remaining\n"
     ]
    },
    {
     "name": "stderr",
     "output_type": "stream",
     "text": [
      "FY2025:   2%|▊                                       | 60000/3117155 [00:17<15:00, 3396.27records/s]"
     ]
    },
    {
     "name": "stdout",
     "output_type": "stream",
     "text": [
      "batch complete: 20,000 saved, 100,000 total, 3,057,155 remaining\n"
     ]
    },
    {
     "name": "stderr",
     "output_type": "stream",
     "text": [
      "FY2025:   3%|█                                       | 80000/3117155 [00:24<16:12, 3124.45records/s]"
     ]
    },
    {
     "name": "stdout",
     "output_type": "stream",
     "text": [
      "batch complete: 20,000 saved, 120,000 total, 3,037,155 remaining\n"
     ]
    },
    {
     "name": "stderr",
     "output_type": "stream",
     "text": [
      "FY2025:   3%|█▎                                     | 100000/3117155 [00:30<15:54, 3159.71records/s]"
     ]
    },
    {
     "name": "stdout",
     "output_type": "stream",
     "text": [
      "batch complete: 20,000 saved, 140,000 total, 3,017,155 remaining\n"
     ]
    },
    {
     "name": "stderr",
     "output_type": "stream",
     "text": [
      "FY2025:   4%|█▌                                     | 120000/3117155 [00:36<15:51, 3150.13records/s]"
     ]
    },
    {
     "name": "stdout",
     "output_type": "stream",
     "text": [
      "batch complete: 20,000 saved, 160,000 total, 2,997,155 remaining\n"
     ]
    },
    {
     "name": "stderr",
     "output_type": "stream",
     "text": [
      "FY2025:   4%|█▊                                     | 140000/3117155 [00:44<16:30, 3005.43records/s]"
     ]
    },
    {
     "name": "stdout",
     "output_type": "stream",
     "text": [
      "batch complete: 20,000 saved, 180,000 total, 2,977,155 remaining\n"
     ]
    },
    {
     "name": "stderr",
     "output_type": "stream",
     "text": [
      "FY2025:   5%|██                                     | 160000/3117155 [00:50<16:09, 3050.41records/s]"
     ]
    },
    {
     "name": "stdout",
     "output_type": "stream",
     "text": [
      "batch complete: 20,000 saved, 200,000 total, 2,957,155 remaining\n"
     ]
    },
    {
     "name": "stderr",
     "output_type": "stream",
     "text": [
      "FY2025:   6%|██▎                                    | 180000/3117155 [00:56<15:38, 3129.28records/s]"
     ]
    },
    {
     "name": "stdout",
     "output_type": "stream",
     "text": [
      "batch complete: 20,000 saved, 220,000 total, 2,937,155 remaining\n"
     ]
    },
    {
     "name": "stderr",
     "output_type": "stream",
     "text": [
      "FY2025:   6%|██▌                                    | 200000/3117155 [01:02<15:19, 3173.16records/s]"
     ]
    },
    {
     "name": "stdout",
     "output_type": "stream",
     "text": [
      "batch complete: 20,000 saved, 240,000 total, 2,917,155 remaining\n"
     ]
    },
    {
     "name": "stderr",
     "output_type": "stream",
     "text": [
      "FY2025:   7%|██▊                                    | 220000/3117155 [01:09<15:50, 3048.62records/s]"
     ]
    },
    {
     "name": "stdout",
     "output_type": "stream",
     "text": [
      "batch complete: 20,000 saved, 260,000 total, 2,897,155 remaining\n"
     ]
    },
    {
     "name": "stderr",
     "output_type": "stream",
     "text": [
      "FY2025:   8%|███                                    | 240000/3117155 [01:16<16:14, 2952.05records/s]"
     ]
    },
    {
     "name": "stdout",
     "output_type": "stream",
     "text": [
      "batch complete: 20,000 saved, 280,000 total, 2,877,155 remaining\n"
     ]
    },
    {
     "name": "stderr",
     "output_type": "stream",
     "text": [
      "FY2025:   8%|███▎                                   | 260000/3117155 [01:23<15:47, 3016.62records/s]"
     ]
    },
    {
     "name": "stdout",
     "output_type": "stream",
     "text": [
      "batch complete: 20,000 saved, 300,000 total, 2,857,155 remaining\n"
     ]
    },
    {
     "name": "stderr",
     "output_type": "stream",
     "text": [
      "FY2025:   9%|███▌                                   | 280000/3117155 [01:29<15:26, 3062.42records/s]"
     ]
    },
    {
     "name": "stdout",
     "output_type": "stream",
     "text": [
      "batch complete: 20,000 saved, 320,000 total, 2,837,155 remaining\n"
     ]
    },
    {
     "name": "stderr",
     "output_type": "stream",
     "text": [
      "FY2025:  10%|███▊                                   | 300000/3117155 [01:36<15:25, 3045.14records/s]"
     ]
    },
    {
     "name": "stdout",
     "output_type": "stream",
     "text": [
      "batch complete: 20,000 saved, 340,000 total, 2,817,155 remaining\n"
     ]
    },
    {
     "name": "stderr",
     "output_type": "stream",
     "text": [
      "FY2025:  10%|████                                   | 320000/3117155 [01:43<15:35, 2991.07records/s]"
     ]
    },
    {
     "name": "stdout",
     "output_type": "stream",
     "text": [
      "batch complete: 20,000 saved, 360,000 total, 2,797,155 remaining\n"
     ]
    },
    {
     "name": "stderr",
     "output_type": "stream",
     "text": [
      "FY2025:  11%|████▎                                  | 340000/3117155 [01:49<15:25, 2999.11records/s]"
     ]
    },
    {
     "name": "stdout",
     "output_type": "stream",
     "text": [
      "batch complete: 20,000 saved, 380,000 total, 2,777,155 remaining\n"
     ]
    },
    {
     "name": "stderr",
     "output_type": "stream",
     "text": [
      "FY2025:  12%|████▌                                  | 360000/3117155 [01:56<15:15, 3011.56records/s]"
     ]
    },
    {
     "name": "stdout",
     "output_type": "stream",
     "text": [
      "batch complete: 20,000 saved, 400,000 total, 2,757,155 remaining\n"
     ]
    },
    {
     "name": "stderr",
     "output_type": "stream",
     "text": [
      "FY2025:  12%|████▊                                  | 380000/3117155 [02:03<15:39, 2912.05records/s]"
     ]
    },
    {
     "name": "stdout",
     "output_type": "stream",
     "text": [
      "batch complete: 20,000 saved, 420,000 total, 2,737,155 remaining\n"
     ]
    },
    {
     "name": "stderr",
     "output_type": "stream",
     "text": [
      "FY2025:  13%|█████                                  | 400000/3117155 [02:10<15:32, 2914.70records/s]"
     ]
    },
    {
     "name": "stdout",
     "output_type": "stream",
     "text": [
      "batch complete: 20,000 saved, 440,000 total, 2,717,155 remaining\n"
     ]
    },
    {
     "name": "stderr",
     "output_type": "stream",
     "text": [
      "FY2025:  13%|█████▎                                 | 420000/3117155 [02:19<16:44, 2684.90records/s]"
     ]
    },
    {
     "name": "stdout",
     "output_type": "stream",
     "text": [
      "batch complete: 20,000 saved, 460,000 total, 2,697,155 remaining\n"
     ]
    },
    {
     "name": "stderr",
     "output_type": "stream",
     "text": [
      "FY2025:  14%|█████▌                                 | 440000/3117155 [02:26<16:20, 2731.06records/s]"
     ]
    },
    {
     "name": "stdout",
     "output_type": "stream",
     "text": [
      "batch complete: 20,000 saved, 480,000 total, 2,677,155 remaining\n"
     ]
    },
    {
     "name": "stderr",
     "output_type": "stream",
     "text": [
      "FY2025:  15%|█████▊                                 | 460000/3117155 [02:33<16:02, 2761.55records/s]"
     ]
    },
    {
     "name": "stdout",
     "output_type": "stream",
     "text": [
      "batch complete: 20,000 saved, 500,000 total, 2,657,155 remaining\n"
     ]
    },
    {
     "name": "stderr",
     "output_type": "stream",
     "text": [
      "FY2025:  15%|██████                                 | 480000/3117155 [02:40<15:50, 2773.23records/s]"
     ]
    },
    {
     "name": "stdout",
     "output_type": "stream",
     "text": [
      "batch complete: 20,000 saved, 520,000 total, 2,637,155 remaining\n"
     ]
    },
    {
     "name": "stderr",
     "output_type": "stream",
     "text": [
      "FY2025:  16%|██████▎                                | 500000/3117155 [02:47<15:37, 2792.20records/s]"
     ]
    },
    {
     "name": "stdout",
     "output_type": "stream",
     "text": [
      "batch complete: 20,000 saved, 540,000 total, 2,617,155 remaining\n"
     ]
    },
    {
     "name": "stderr",
     "output_type": "stream",
     "text": [
      "FY2025:  17%|██████▌                                | 520000/3117155 [02:55<15:45, 2746.57records/s]"
     ]
    },
    {
     "name": "stdout",
     "output_type": "stream",
     "text": [
      "batch complete: 20,000 saved, 560,000 total, 2,597,155 remaining\n"
     ]
    },
    {
     "name": "stderr",
     "output_type": "stream",
     "text": [
      "FY2025:  17%|██████▊                                | 540000/3117155 [03:02<15:30, 2770.94records/s]"
     ]
    },
    {
     "name": "stdout",
     "output_type": "stream",
     "text": [
      "batch complete: 20,000 saved, 580,000 total, 2,577,155 remaining\n"
     ]
    },
    {
     "name": "stderr",
     "output_type": "stream",
     "text": [
      "FY2025:  18%|███████                                | 560000/3117155 [03:09<15:36, 2731.49records/s]"
     ]
    },
    {
     "name": "stdout",
     "output_type": "stream",
     "text": [
      "batch complete: 20,000 saved, 600,000 total, 2,557,155 remaining\n"
     ]
    },
    {
     "name": "stderr",
     "output_type": "stream",
     "text": [
      "FY2025:  19%|███████▎                               | 580000/3117155 [03:18<15:59, 2644.92records/s]"
     ]
    },
    {
     "name": "stdout",
     "output_type": "stream",
     "text": [
      "batch complete: 20,000 saved, 620,000 total, 2,537,155 remaining\n"
     ]
    },
    {
     "name": "stderr",
     "output_type": "stream",
     "text": [
      "FY2025:  19%|███████▌                               | 600000/3117155 [03:25<15:47, 2655.79records/s]"
     ]
    },
    {
     "name": "stdout",
     "output_type": "stream",
     "text": [
      "batch complete: 20,000 saved, 640,000 total, 2,517,155 remaining\n"
     ]
    },
    {
     "name": "stderr",
     "output_type": "stream",
     "text": [
      "FY2025:  20%|███████▊                               | 620000/3117155 [03:33<15:54, 2615.42records/s]"
     ]
    },
    {
     "name": "stdout",
     "output_type": "stream",
     "text": [
      "batch complete: 20,000 saved, 660,000 total, 2,497,155 remaining\n"
     ]
    },
    {
     "name": "stderr",
     "output_type": "stream",
     "text": [
      "FY2025:  21%|████████                               | 640000/3117155 [03:41<16:14, 2541.90records/s]"
     ]
    },
    {
     "name": "stdout",
     "output_type": "stream",
     "text": [
      "batch complete: 20,000 saved, 680,000 total, 2,477,155 remaining\n"
     ]
    },
    {
     "name": "stderr",
     "output_type": "stream",
     "text": [
      "FY2025:  21%|████████▎                              | 660000/3117155 [03:49<15:49, 2588.36records/s]"
     ]
    },
    {
     "name": "stdout",
     "output_type": "stream",
     "text": [
      "batch complete: 20,000 saved, 700,000 total, 2,457,155 remaining\n"
     ]
    },
    {
     "name": "stderr",
     "output_type": "stream",
     "text": [
      "FY2025:  22%|████████▌                              | 680000/3117155 [03:56<15:40, 2591.59records/s]"
     ]
    },
    {
     "name": "stdout",
     "output_type": "stream",
     "text": [
      "batch complete: 20,000 saved, 720,000 total, 2,437,155 remaining\n"
     ]
    },
    {
     "name": "stderr",
     "output_type": "stream",
     "text": [
      "FY2025:  22%|████████▊                              | 700000/3117155 [04:04<15:20, 2626.21records/s]"
     ]
    },
    {
     "name": "stdout",
     "output_type": "stream",
     "text": [
      "batch complete: 20,000 saved, 740,000 total, 2,417,155 remaining\n"
     ]
    },
    {
     "name": "stderr",
     "output_type": "stream",
     "text": [
      "FY2025:  23%|█████████                              | 720000/3117155 [04:11<15:09, 2635.07records/s]"
     ]
    },
    {
     "name": "stdout",
     "output_type": "stream",
     "text": [
      "batch complete: 20,000 saved, 760,000 total, 2,397,155 remaining\n"
     ]
    },
    {
     "name": "stderr",
     "output_type": "stream",
     "text": [
      "FY2025:  24%|█████████▎                             | 740000/3117155 [04:19<15:21, 2580.47records/s]"
     ]
    },
    {
     "name": "stdout",
     "output_type": "stream",
     "text": [
      "batch complete: 20,000 saved, 780,000 total, 2,377,155 remaining\n"
     ]
    },
    {
     "name": "stderr",
     "output_type": "stream",
     "text": [
      "FY2025:  24%|█████████▌                             | 760000/3117155 [04:27<15:01, 2614.38records/s]"
     ]
    },
    {
     "name": "stdout",
     "output_type": "stream",
     "text": [
      "batch complete: 20,000 saved, 800,000 total, 2,357,155 remaining\n"
     ]
    },
    {
     "name": "stderr",
     "output_type": "stream",
     "text": [
      "FY2025:  25%|█████████▊                             | 780000/3117155 [04:35<15:03, 2585.87records/s]"
     ]
    },
    {
     "name": "stdout",
     "output_type": "stream",
     "text": [
      "batch complete: 20,000 saved, 820,000 total, 2,337,155 remaining\n"
     ]
    },
    {
     "name": "stderr",
     "output_type": "stream",
     "text": [
      "FY2025:  26%|██████████                             | 800000/3117155 [04:42<14:55, 2587.64records/s]"
     ]
    },
    {
     "name": "stdout",
     "output_type": "stream",
     "text": [
      "batch complete: 20,000 saved, 840,000 total, 2,317,155 remaining\n"
     ]
    },
    {
     "name": "stderr",
     "output_type": "stream",
     "text": [
      "FY2025:  26%|██████████▎                            | 820000/3117155 [04:50<14:49, 2581.59records/s]"
     ]
    },
    {
     "name": "stdout",
     "output_type": "stream",
     "text": [
      "batch complete: 20,000 saved, 860,000 total, 2,297,155 remaining\n"
     ]
    },
    {
     "name": "stderr",
     "output_type": "stream",
     "text": [
      "FY2025:  27%|██████████▌                            | 840000/3117155 [04:59<15:03, 2520.82records/s]"
     ]
    },
    {
     "name": "stdout",
     "output_type": "stream",
     "text": [
      "batch complete: 20,000 saved, 880,000 total, 2,277,155 remaining\n"
     ]
    },
    {
     "name": "stderr",
     "output_type": "stream",
     "text": [
      "FY2025:  28%|██████████▊                            | 860000/3117155 [05:07<15:12, 2474.55records/s]"
     ]
    },
    {
     "name": "stdout",
     "output_type": "stream",
     "text": [
      "batch complete: 20,000 saved, 900,000 total, 2,257,155 remaining\n"
     ]
    },
    {
     "name": "stderr",
     "output_type": "stream",
     "text": [
      "FY2025:  28%|███████████                            | 880000/3117155 [05:16<15:47, 2361.46records/s]"
     ]
    },
    {
     "name": "stdout",
     "output_type": "stream",
     "text": [
      "batch complete: 20,000 saved, 920,000 total, 2,237,155 remaining\n"
     ]
    },
    {
     "name": "stderr",
     "output_type": "stream",
     "text": [
      "FY2025:  29%|███████████▎                           | 900000/3117155 [05:25<15:26, 2394.03records/s]"
     ]
    },
    {
     "name": "stdout",
     "output_type": "stream",
     "text": [
      "batch complete: 20,000 saved, 940,000 total, 2,217,155 remaining\n"
     ]
    },
    {
     "name": "stderr",
     "output_type": "stream",
     "text": [
      "FY2025:  30%|███████████▌                           | 920000/3117155 [05:33<15:17, 2395.37records/s]"
     ]
    },
    {
     "name": "stdout",
     "output_type": "stream",
     "text": [
      "batch complete: 20,000 saved, 960,000 total, 2,197,155 remaining\n"
     ]
    },
    {
     "name": "stderr",
     "output_type": "stream",
     "text": [
      "FY2025:  30%|███████████▊                           | 940000/3117155 [05:41<15:09, 2393.24records/s]"
     ]
    },
    {
     "name": "stdout",
     "output_type": "stream",
     "text": [
      "batch complete: 20,000 saved, 980,000 total, 2,177,155 remaining\n"
     ]
    },
    {
     "name": "stderr",
     "output_type": "stream",
     "text": [
      "FY2025:  31%|████████████                           | 960000/3117155 [05:50<14:59, 2396.94records/s]"
     ]
    },
    {
     "name": "stdout",
     "output_type": "stream",
     "text": [
      "batch complete: 20,000 saved, 1,000,000 total, 2,157,155 remaining\n"
     ]
    },
    {
     "name": "stderr",
     "output_type": "stream",
     "text": [
      "FY2025:  31%|████████████▎                          | 980000/3117155 [05:58<14:45, 2413.89records/s]"
     ]
    },
    {
     "name": "stdout",
     "output_type": "stream",
     "text": [
      "batch complete: 20,000 saved, 1,020,000 total, 2,137,155 remaining\n"
     ]
    },
    {
     "name": "stderr",
     "output_type": "stream",
     "text": [
      "FY2025:  32%|████████████▏                         | 1000000/3117155 [06:06<14:34, 2421.56records/s]"
     ]
    },
    {
     "name": "stdout",
     "output_type": "stream",
     "text": [
      "batch complete: 20,000 saved, 1,040,000 total, 2,117,155 remaining\n"
     ]
    },
    {
     "name": "stderr",
     "output_type": "stream",
     "text": [
      "FY2025:  33%|████████████▍                         | 1020000/3117155 [06:14<14:35, 2395.28records/s]"
     ]
    },
    {
     "name": "stdout",
     "output_type": "stream",
     "text": [
      "batch complete: 20,000 saved, 1,060,000 total, 2,097,155 remaining\n"
     ]
    },
    {
     "name": "stderr",
     "output_type": "stream",
     "text": [
      "FY2025:  33%|████████████▋                         | 1040000/3117155 [06:23<14:29, 2389.49records/s]"
     ]
    },
    {
     "name": "stdout",
     "output_type": "stream",
     "text": [
      "batch complete: 20,000 saved, 1,080,000 total, 2,077,155 remaining\n"
     ]
    },
    {
     "name": "stderr",
     "output_type": "stream",
     "text": [
      "FY2025:  34%|████████████▉                         | 1060000/3117155 [06:31<14:25, 2377.31records/s]"
     ]
    },
    {
     "name": "stdout",
     "output_type": "stream",
     "text": [
      "batch complete: 20,000 saved, 1,100,000 total, 2,057,155 remaining\n"
     ]
    },
    {
     "name": "stderr",
     "output_type": "stream",
     "text": [
      "FY2025:  35%|█████████████▏                        | 1080000/3117155 [06:40<14:26, 2351.95records/s]"
     ]
    },
    {
     "name": "stdout",
     "output_type": "stream",
     "text": [
      "batch complete: 20,000 saved, 1,120,000 total, 2,037,155 remaining\n"
     ]
    },
    {
     "name": "stderr",
     "output_type": "stream",
     "text": [
      "FY2025:  35%|█████████████▍                        | 1100000/3117155 [06:49<14:22, 2339.59records/s]"
     ]
    },
    {
     "name": "stdout",
     "output_type": "stream",
     "text": [
      "batch complete: 20,000 saved, 1,140,000 total, 2,017,155 remaining\n"
     ]
    },
    {
     "name": "stderr",
     "output_type": "stream",
     "text": [
      "FY2025:  36%|█████████████▋                        | 1120000/3117155 [06:57<14:06, 2360.14records/s]"
     ]
    },
    {
     "name": "stdout",
     "output_type": "stream",
     "text": [
      "batch complete: 20,000 saved, 1,160,000 total, 1,997,155 remaining\n"
     ]
    },
    {
     "name": "stderr",
     "output_type": "stream",
     "text": [
      "FY2025:  37%|█████████████▉                        | 1140000/3117155 [07:06<14:05, 2337.90records/s]"
     ]
    },
    {
     "name": "stdout",
     "output_type": "stream",
     "text": [
      "batch complete: 20,000 saved, 1,180,000 total, 1,977,155 remaining\n"
     ]
    },
    {
     "name": "stderr",
     "output_type": "stream",
     "text": [
      "FY2025:  37%|██████████████▏                       | 1160000/3117155 [07:14<13:55, 2342.02records/s]"
     ]
    },
    {
     "name": "stdout",
     "output_type": "stream",
     "text": [
      "batch complete: 20,000 saved, 1,200,000 total, 1,957,155 remaining\n"
     ]
    },
    {
     "name": "stderr",
     "output_type": "stream",
     "text": [
      "FY2025:  38%|██████████████▍                       | 1180000/3117155 [07:23<13:55, 2319.72records/s]"
     ]
    },
    {
     "name": "stdout",
     "output_type": "stream",
     "text": [
      "batch complete: 20,000 saved, 1,220,000 total, 1,937,155 remaining\n"
     ]
    },
    {
     "name": "stderr",
     "output_type": "stream",
     "text": [
      "FY2025:  38%|██████████████▋                       | 1200000/3117155 [07:32<13:52, 2304.23records/s]"
     ]
    },
    {
     "name": "stdout",
     "output_type": "stream",
     "text": [
      "batch complete: 20,000 saved, 1,240,000 total, 1,917,155 remaining\n"
     ]
    },
    {
     "name": "stderr",
     "output_type": "stream",
     "text": [
      "FY2025:  39%|██████████████▊                       | 1220000/3117155 [07:42<14:23, 2197.15records/s]"
     ]
    },
    {
     "name": "stdout",
     "output_type": "stream",
     "text": [
      "batch complete: 20,000 saved, 1,260,000 total, 1,897,155 remaining\n"
     ]
    },
    {
     "name": "stderr",
     "output_type": "stream",
     "text": [
      "FY2025:  40%|███████████████                       | 1240000/3117155 [07:51<14:06, 2217.26records/s]"
     ]
    },
    {
     "name": "stdout",
     "output_type": "stream",
     "text": [
      "batch complete: 20,000 saved, 1,280,000 total, 1,877,155 remaining\n"
     ]
    },
    {
     "name": "stderr",
     "output_type": "stream",
     "text": [
      "FY2025:  40%|███████████████▎                      | 1260000/3117155 [08:00<13:57, 2216.32records/s]"
     ]
    },
    {
     "name": "stdout",
     "output_type": "stream",
     "text": [
      "batch complete: 20,000 saved, 1,300,000 total, 1,857,155 remaining\n"
     ]
    },
    {
     "name": "stderr",
     "output_type": "stream",
     "text": [
      "FY2025:  41%|███████████████▌                      | 1280000/3117155 [08:10<14:13, 2152.26records/s]"
     ]
    },
    {
     "name": "stdout",
     "output_type": "stream",
     "text": [
      "batch complete: 20,000 saved, 1,320,000 total, 1,837,155 remaining\n"
     ]
    },
    {
     "name": "stderr",
     "output_type": "stream",
     "text": [
      "FY2025:  42%|███████████████▊                      | 1300000/3117155 [08:19<14:06, 2146.63records/s]"
     ]
    },
    {
     "name": "stdout",
     "output_type": "stream",
     "text": [
      "batch complete: 20,000 saved, 1,340,000 total, 1,817,155 remaining\n"
     ]
    },
    {
     "name": "stderr",
     "output_type": "stream",
     "text": [
      "FY2025:  42%|████████████████                      | 1320000/3117155 [08:31<15:12, 1970.12records/s]"
     ]
    },
    {
     "name": "stdout",
     "output_type": "stream",
     "text": [
      "batch complete: 20,000 saved, 1,360,000 total, 1,797,155 remaining\n"
     ]
    },
    {
     "name": "stderr",
     "output_type": "stream",
     "text": [
      "FY2025:  43%|████████████████▎                     | 1340000/3117155 [08:41<14:41, 2015.25records/s]"
     ]
    },
    {
     "name": "stdout",
     "output_type": "stream",
     "text": [
      "batch complete: 20,000 saved, 1,380,000 total, 1,777,155 remaining\n"
     ]
    },
    {
     "name": "stderr",
     "output_type": "stream",
     "text": [
      "FY2025:  44%|████████████████▌                     | 1360000/3117155 [08:50<14:22, 2036.64records/s]"
     ]
    },
    {
     "name": "stdout",
     "output_type": "stream",
     "text": [
      "batch complete: 20,000 saved, 1,400,000 total, 1,757,155 remaining\n"
     ]
    },
    {
     "name": "stderr",
     "output_type": "stream",
     "text": [
      "FY2025:  44%|████████████████▊                     | 1380000/3117155 [09:00<14:15, 2031.29records/s]"
     ]
    },
    {
     "name": "stdout",
     "output_type": "stream",
     "text": [
      "batch complete: 20,000 saved, 1,420,000 total, 1,737,155 remaining\n"
     ]
    },
    {
     "name": "stderr",
     "output_type": "stream",
     "text": [
      "FY2025:  45%|█████████████████                     | 1400000/3117155 [09:09<13:45, 2080.73records/s]"
     ]
    },
    {
     "name": "stdout",
     "output_type": "stream",
     "text": [
      "batch complete: 20,000 saved, 1,440,000 total, 1,717,155 remaining\n"
     ]
    },
    {
     "name": "stderr",
     "output_type": "stream",
     "text": [
      "FY2025:  46%|█████████████████▎                    | 1420000/3117155 [09:19<13:39, 2069.91records/s]"
     ]
    },
    {
     "name": "stdout",
     "output_type": "stream",
     "text": [
      "batch complete: 20,000 saved, 1,460,000 total, 1,697,155 remaining\n"
     ]
    },
    {
     "name": "stderr",
     "output_type": "stream",
     "text": [
      "FY2025:  46%|█████████████████▌                    | 1440000/3117155 [09:29<13:41, 2041.56records/s]"
     ]
    },
    {
     "name": "stdout",
     "output_type": "stream",
     "text": [
      "batch complete: 20,000 saved, 1,480,000 total, 1,677,155 remaining\n"
     ]
    },
    {
     "name": "stderr",
     "output_type": "stream",
     "text": [
      "FY2025:  47%|█████████████████▊                    | 1460000/3117155 [09:38<13:17, 2077.05records/s]"
     ]
    },
    {
     "name": "stdout",
     "output_type": "stream",
     "text": [
      "batch complete: 20,000 saved, 1,500,000 total, 1,657,155 remaining\n"
     ]
    },
    {
     "name": "stderr",
     "output_type": "stream",
     "text": [
      "FY2025:  47%|██████████████████                    | 1480000/3117155 [09:48<12:56, 2107.53records/s]"
     ]
    },
    {
     "name": "stdout",
     "output_type": "stream",
     "text": [
      "batch complete: 20,000 saved, 1,520,000 total, 1,637,155 remaining\n"
     ]
    },
    {
     "name": "stderr",
     "output_type": "stream",
     "text": [
      "FY2025:  48%|██████████████████▎                   | 1500000/3117155 [09:57<12:56, 2081.98records/s]"
     ]
    },
    {
     "name": "stdout",
     "output_type": "stream",
     "text": [
      "batch complete: 20,000 saved, 1,540,000 total, 1,617,155 remaining\n"
     ]
    },
    {
     "name": "stderr",
     "output_type": "stream",
     "text": [
      "FY2025:  49%|██████████████████▌                   | 1520000/3117155 [10:07<12:40, 2099.28records/s]"
     ]
    },
    {
     "name": "stdout",
     "output_type": "stream",
     "text": [
      "batch complete: 20,000 saved, 1,560,000 total, 1,597,155 remaining\n"
     ]
    },
    {
     "name": "stderr",
     "output_type": "stream",
     "text": [
      "FY2025:  49%|██████████████████▊                   | 1540000/3117155 [10:18<13:18, 1976.12records/s]"
     ]
    },
    {
     "name": "stdout",
     "output_type": "stream",
     "text": [
      "batch complete: 20,000 saved, 1,580,000 total, 1,577,155 remaining\n"
     ]
    },
    {
     "name": "stderr",
     "output_type": "stream",
     "text": [
      "FY2025:  50%|███████████████████                   | 1560000/3117155 [10:28<13:06, 1980.41records/s]"
     ]
    },
    {
     "name": "stdout",
     "output_type": "stream",
     "text": [
      "batch complete: 20,000 saved, 1,600,000 total, 1,557,155 remaining\n"
     ]
    },
    {
     "name": "stderr",
     "output_type": "stream",
     "text": [
      "FY2025:  51%|███████████████████▎                  | 1580000/3117155 [10:38<12:53, 1986.88records/s]"
     ]
    },
    {
     "name": "stdout",
     "output_type": "stream",
     "text": [
      "batch complete: 20,000 saved, 1,620,000 total, 1,537,155 remaining\n"
     ]
    },
    {
     "name": "stderr",
     "output_type": "stream",
     "text": [
      "FY2025:  51%|███████████████████▌                  | 1600000/3117155 [10:48<12:28, 2025.59records/s]"
     ]
    },
    {
     "name": "stdout",
     "output_type": "stream",
     "text": [
      "batch complete: 20,000 saved, 1,640,000 total, 1,517,155 remaining\n"
     ]
    },
    {
     "name": "stderr",
     "output_type": "stream",
     "text": [
      "FY2025:  52%|███████████████████▋                  | 1620000/3117155 [10:58<12:19, 2023.40records/s]"
     ]
    },
    {
     "name": "stdout",
     "output_type": "stream",
     "text": [
      "batch complete: 20,000 saved, 1,660,000 total, 1,497,155 remaining\n"
     ]
    },
    {
     "name": "stderr",
     "output_type": "stream",
     "text": [
      "FY2025:  53%|███████████████████▉                  | 1640000/3117155 [11:07<12:04, 2039.07records/s]"
     ]
    },
    {
     "name": "stdout",
     "output_type": "stream",
     "text": [
      "batch complete: 20,000 saved, 1,680,000 total, 1,477,155 remaining\n"
     ]
    },
    {
     "name": "stderr",
     "output_type": "stream",
     "text": [
      "FY2025:  53%|████████████████████▏                 | 1660000/3117155 [11:18<12:06, 2004.52records/s]"
     ]
    },
    {
     "name": "stdout",
     "output_type": "stream",
     "text": [
      "batch complete: 20,000 saved, 1,700,000 total, 1,457,155 remaining\n"
     ]
    },
    {
     "name": "stderr",
     "output_type": "stream",
     "text": [
      "FY2025:  54%|████████████████████▍                 | 1680000/3117155 [11:27<11:52, 2017.83records/s]"
     ]
    },
    {
     "name": "stdout",
     "output_type": "stream",
     "text": [
      "batch complete: 20,000 saved, 1,720,000 total, 1,437,155 remaining\n"
     ]
    },
    {
     "name": "stderr",
     "output_type": "stream",
     "text": [
      "FY2025:  55%|████████████████████▋                 | 1700000/3117155 [11:38<11:55, 1981.53records/s]"
     ]
    },
    {
     "name": "stdout",
     "output_type": "stream",
     "text": [
      "batch complete: 20,000 saved, 1,740,000 total, 1,417,155 remaining\n"
     ]
    },
    {
     "name": "stderr",
     "output_type": "stream",
     "text": [
      "FY2025:  55%|████████████████████▉                 | 1720000/3117155 [11:48<11:38, 2000.31records/s]"
     ]
    },
    {
     "name": "stdout",
     "output_type": "stream",
     "text": [
      "batch complete: 20,000 saved, 1,760,000 total, 1,397,155 remaining\n"
     ]
    },
    {
     "name": "stderr",
     "output_type": "stream",
     "text": [
      "FY2025:  56%|█████████████████████▏                | 1740000/3117155 [11:58<11:32, 1988.12records/s]"
     ]
    },
    {
     "name": "stdout",
     "output_type": "stream",
     "text": [
      "batch complete: 20,000 saved, 1,780,000 total, 1,377,155 remaining\n"
     ]
    },
    {
     "name": "stderr",
     "output_type": "stream",
     "text": [
      "FY2025:  56%|█████████████████████▍                | 1760000/3117155 [12:08<11:16, 2005.34records/s]"
     ]
    },
    {
     "name": "stdout",
     "output_type": "stream",
     "text": [
      "batch complete: 20,000 saved, 1,800,000 total, 1,357,155 remaining\n"
     ]
    },
    {
     "name": "stderr",
     "output_type": "stream",
     "text": [
      "FY2025:  57%|█████████████████████▋                | 1780000/3117155 [12:18<11:15, 1979.93records/s]"
     ]
    },
    {
     "name": "stdout",
     "output_type": "stream",
     "text": [
      "batch complete: 20,000 saved, 1,820,000 total, 1,337,155 remaining\n"
     ]
    },
    {
     "name": "stderr",
     "output_type": "stream",
     "text": [
      "FY2025:  58%|█████████████████████▉                | 1800000/3117155 [12:28<11:04, 1982.61records/s]"
     ]
    },
    {
     "name": "stdout",
     "output_type": "stream",
     "text": [
      "batch complete: 20,000 saved, 1,840,000 total, 1,317,155 remaining\n"
     ]
    },
    {
     "name": "stderr",
     "output_type": "stream",
     "text": [
      "FY2025:  58%|██████████████████████▏               | 1820000/3117155 [12:39<11:04, 1953.09records/s]"
     ]
    },
    {
     "name": "stdout",
     "output_type": "stream",
     "text": [
      "batch complete: 20,000 saved, 1,860,000 total, 1,297,155 remaining\n"
     ]
    },
    {
     "name": "stderr",
     "output_type": "stream",
     "text": [
      "FY2025:  59%|██████████████████████▍               | 1840000/3117155 [12:53<12:02, 1767.31records/s]"
     ]
    },
    {
     "name": "stdout",
     "output_type": "stream",
     "text": [
      "batch complete: 20,000 saved, 1,880,000 total, 1,277,155 remaining\n"
     ]
    },
    {
     "name": "stderr",
     "output_type": "stream",
     "text": [
      "FY2025:  60%|██████████████████████▋               | 1860000/3117155 [13:03<11:32, 1814.52records/s]"
     ]
    },
    {
     "name": "stdout",
     "output_type": "stream",
     "text": [
      "batch complete: 20,000 saved, 1,900,000 total, 1,257,155 remaining\n"
     ]
    },
    {
     "name": "stderr",
     "output_type": "stream",
     "text": [
      "FY2025:  60%|██████████████████████▉               | 1880000/3117155 [13:13<11:09, 1846.71records/s]"
     ]
    },
    {
     "name": "stdout",
     "output_type": "stream",
     "text": [
      "batch complete: 20,000 saved, 1,920,000 total, 1,237,155 remaining\n"
     ]
    },
    {
     "name": "stderr",
     "output_type": "stream",
     "text": [
      "FY2025:  61%|███████████████████████▏              | 1900000/3117155 [13:23<10:47, 1879.19records/s]"
     ]
    },
    {
     "name": "stdout",
     "output_type": "stream",
     "text": [
      "batch complete: 20,000 saved, 1,940,000 total, 1,217,155 remaining\n"
     ]
    },
    {
     "name": "stderr",
     "output_type": "stream",
     "text": [
      "FY2025:  62%|███████████████████████▍              | 1920000/3117155 [13:34<10:29, 1901.65records/s]"
     ]
    },
    {
     "name": "stdout",
     "output_type": "stream",
     "text": [
      "batch complete: 20,000 saved, 1,960,000 total, 1,197,155 remaining\n"
     ]
    },
    {
     "name": "stderr",
     "output_type": "stream",
     "text": [
      "FY2025:  62%|███████████████████████▋              | 1940000/3117155 [13:44<10:19, 1900.36records/s]"
     ]
    },
    {
     "name": "stdout",
     "output_type": "stream",
     "text": [
      "batch complete: 20,000 saved, 1,980,000 total, 1,177,155 remaining\n"
     ]
    },
    {
     "name": "stderr",
     "output_type": "stream",
     "text": [
      "FY2025:  63%|███████████████████████▉              | 1960000/3117155 [13:55<10:15, 1879.05records/s]"
     ]
    },
    {
     "name": "stdout",
     "output_type": "stream",
     "text": [
      "batch complete: 20,000 saved, 2,000,000 total, 1,157,155 remaining\n"
     ]
    },
    {
     "name": "stderr",
     "output_type": "stream",
     "text": [
      "FY2025:  64%|████████████████████████▏             | 1980000/3117155 [14:06<10:11, 1861.00records/s]"
     ]
    },
    {
     "name": "stdout",
     "output_type": "stream",
     "text": [
      "batch complete: 20,000 saved, 2,020,000 total, 1,137,155 remaining\n"
     ]
    },
    {
     "name": "stderr",
     "output_type": "stream",
     "text": [
      "FY2025:  64%|████████████████████████▍             | 2000000/3117155 [14:18<10:23, 1791.03records/s]"
     ]
    },
    {
     "name": "stdout",
     "output_type": "stream",
     "text": [
      "batch complete: 20,000 saved, 2,040,000 total, 1,117,155 remaining\n"
     ]
    },
    {
     "name": "stderr",
     "output_type": "stream",
     "text": [
      "FY2025:  65%|████████████████████████▋             | 2020000/3117155 [14:29<10:06, 1808.50records/s]"
     ]
    },
    {
     "name": "stdout",
     "output_type": "stream",
     "text": [
      "batch complete: 20,000 saved, 2,060,000 total, 1,097,155 remaining\n"
     ]
    },
    {
     "name": "stderr",
     "output_type": "stream",
     "text": [
      "FY2025:  65%|████████████████████████▊             | 2040000/3117155 [14:40<09:45, 1839.31records/s]"
     ]
    },
    {
     "name": "stdout",
     "output_type": "stream",
     "text": [
      "batch complete: 20,000 saved, 2,080,000 total, 1,077,155 remaining\n"
     ]
    },
    {
     "name": "stderr",
     "output_type": "stream",
     "text": [
      "FY2025:  66%|█████████████████████████             | 2060000/3117155 [14:51<09:40, 1822.49records/s]"
     ]
    },
    {
     "name": "stdout",
     "output_type": "stream",
     "text": [
      "batch complete: 20,000 saved, 2,100,000 total, 1,057,155 remaining\n"
     ]
    },
    {
     "name": "stderr",
     "output_type": "stream",
     "text": [
      "FY2025:  67%|█████████████████████████▎            | 2080000/3117155 [15:03<09:43, 1776.10records/s]"
     ]
    },
    {
     "name": "stdout",
     "output_type": "stream",
     "text": [
      "batch complete: 20,000 saved, 2,120,000 total, 1,037,155 remaining\n"
     ]
    },
    {
     "name": "stderr",
     "output_type": "stream",
     "text": [
      "FY2025:  67%|█████████████████████████▌            | 2100000/3117155 [15:16<10:00, 1692.71records/s]"
     ]
    },
    {
     "name": "stdout",
     "output_type": "stream",
     "text": [
      "batch complete: 20,000 saved, 2,140,000 total, 1,017,155 remaining\n"
     ]
    },
    {
     "name": "stderr",
     "output_type": "stream",
     "text": [
      "FY2025:  68%|█████████████████████████▊            | 2120000/3117155 [15:27<09:34, 1734.63records/s]"
     ]
    },
    {
     "name": "stdout",
     "output_type": "stream",
     "text": [
      "batch complete: 20,000 saved, 2,160,000 total, 997,155 remaining\n"
     ]
    },
    {
     "name": "stderr",
     "output_type": "stream",
     "text": [
      "FY2025:  69%|██████████████████████████            | 2140000/3117155 [15:38<09:19, 1747.50records/s]"
     ]
    },
    {
     "name": "stdout",
     "output_type": "stream",
     "text": [
      "batch complete: 20,000 saved, 2,180,000 total, 977,155 remaining\n"
     ]
    },
    {
     "name": "stderr",
     "output_type": "stream",
     "text": [
      "FY2025:  69%|██████████████████████████▎           | 2160000/3117155 [15:49<08:59, 1774.34records/s]"
     ]
    },
    {
     "name": "stdout",
     "output_type": "stream",
     "text": [
      "batch complete: 20,000 saved, 2,200,000 total, 957,155 remaining\n"
     ]
    },
    {
     "name": "stderr",
     "output_type": "stream",
     "text": [
      "FY2025:  70%|██████████████████████████▌           | 2180000/3117155 [16:00<08:54, 1754.43records/s]"
     ]
    },
    {
     "name": "stdout",
     "output_type": "stream",
     "text": [
      "batch complete: 20,000 saved, 2,220,000 total, 937,155 remaining\n"
     ]
    },
    {
     "name": "stderr",
     "output_type": "stream",
     "text": [
      "FY2025:  71%|██████████████████████████▊           | 2200000/3117155 [16:11<08:34, 1782.60records/s]"
     ]
    },
    {
     "name": "stdout",
     "output_type": "stream",
     "text": [
      "batch complete: 20,000 saved, 2,240,000 total, 917,155 remaining\n"
     ]
    },
    {
     "name": "stderr",
     "output_type": "stream",
     "text": [
      "FY2025:  71%|███████████████████████████           | 2220000/3117155 [16:23<08:26, 1772.90records/s]"
     ]
    },
    {
     "name": "stdout",
     "output_type": "stream",
     "text": [
      "batch complete: 20,000 saved, 2,260,000 total, 897,155 remaining\n"
     ]
    },
    {
     "name": "stderr",
     "output_type": "stream",
     "text": [
      "FY2025:  72%|███████████████████████████▎          | 2240000/3117155 [16:33<08:05, 1806.86records/s]"
     ]
    },
    {
     "name": "stdout",
     "output_type": "stream",
     "text": [
      "batch complete: 20,000 saved, 2,280,000 total, 877,155 remaining\n"
     ]
    },
    {
     "name": "stderr",
     "output_type": "stream",
     "text": [
      "FY2025:  73%|███████████████████████████▌          | 2260000/3117155 [16:45<08:03, 1774.36records/s]"
     ]
    },
    {
     "name": "stdout",
     "output_type": "stream",
     "text": [
      "batch complete: 20,000 saved, 2,300,000 total, 857,155 remaining\n"
     ]
    },
    {
     "name": "stderr",
     "output_type": "stream",
     "text": [
      "FY2025:  73%|███████████████████████████▊          | 2280000/3117155 [16:56<07:47, 1790.11records/s]"
     ]
    },
    {
     "name": "stdout",
     "output_type": "stream",
     "text": [
      "batch complete: 20,000 saved, 2,320,000 total, 837,155 remaining\n"
     ]
    },
    {
     "name": "stderr",
     "output_type": "stream",
     "text": [
      "FY2025:  74%|████████████████████████████          | 2300000/3117155 [17:07<07:38, 1781.00records/s]"
     ]
    },
    {
     "name": "stdout",
     "output_type": "stream",
     "text": [
      "batch complete: 20,000 saved, 2,340,000 total, 817,155 remaining\n"
     ]
    },
    {
     "name": "stderr",
     "output_type": "stream",
     "text": [
      "FY2025:  74%|████████████████████████████▎         | 2320000/3117155 [17:18<07:23, 1797.06records/s]"
     ]
    },
    {
     "name": "stdout",
     "output_type": "stream",
     "text": [
      "batch complete: 20,000 saved, 2,360,000 total, 797,155 remaining\n"
     ]
    },
    {
     "name": "stderr",
     "output_type": "stream",
     "text": [
      "FY2025:  75%|████████████████████████████▌         | 2340000/3117155 [17:30<07:20, 1763.25records/s]"
     ]
    },
    {
     "name": "stdout",
     "output_type": "stream",
     "text": [
      "batch complete: 20,000 saved, 2,380,000 total, 777,155 remaining\n"
     ]
    },
    {
     "name": "stderr",
     "output_type": "stream",
     "text": [
      "FY2025:  76%|████████████████████████████▊         | 2360000/3117155 [17:42<07:17, 1729.37records/s]"
     ]
    },
    {
     "name": "stdout",
     "output_type": "stream",
     "text": [
      "batch complete: 20,000 saved, 2,400,000 total, 757,155 remaining\n"
     ]
    },
    {
     "name": "stderr",
     "output_type": "stream",
     "text": [
      "FY2025:  76%|█████████████████████████████         | 2380000/3117155 [17:54<07:08, 1721.45records/s]"
     ]
    },
    {
     "name": "stdout",
     "output_type": "stream",
     "text": [
      "batch complete: 20,000 saved, 2,420,000 total, 737,155 remaining\n"
     ]
    },
    {
     "name": "stderr",
     "output_type": "stream",
     "text": [
      "FY2025:  77%|█████████████████████████████▎        | 2400000/3117155 [18:07<07:15, 1648.29records/s]"
     ]
    },
    {
     "name": "stdout",
     "output_type": "stream",
     "text": [
      "batch complete: 20,000 saved, 2,440,000 total, 717,155 remaining\n"
     ]
    },
    {
     "name": "stderr",
     "output_type": "stream",
     "text": [
      "FY2025:  78%|█████████████████████████████▌        | 2420000/3117155 [18:20<07:05, 1638.97records/s]"
     ]
    },
    {
     "name": "stdout",
     "output_type": "stream",
     "text": [
      "batch complete: 20,000 saved, 2,460,000 total, 697,155 remaining\n"
     ]
    },
    {
     "name": "stderr",
     "output_type": "stream",
     "text": [
      "FY2025:  78%|█████████████████████████████▋        | 2440000/3117155 [18:31<06:50, 1651.16records/s]"
     ]
    },
    {
     "name": "stdout",
     "output_type": "stream",
     "text": [
      "batch complete: 20,000 saved, 2,480,000 total, 677,155 remaining\n"
     ]
    },
    {
     "name": "stderr",
     "output_type": "stream",
     "text": [
      "FY2025:  79%|█████████████████████████████▉        | 2460000/3117155 [18:43<06:31, 1680.48records/s]"
     ]
    },
    {
     "name": "stdout",
     "output_type": "stream",
     "text": [
      "batch complete: 20,000 saved, 2,500,000 total, 657,155 remaining\n"
     ]
    },
    {
     "name": "stderr",
     "output_type": "stream",
     "text": [
      "FY2025:  80%|██████████████████████████████▏       | 2480000/3117155 [18:54<06:14, 1703.03records/s]"
     ]
    },
    {
     "name": "stdout",
     "output_type": "stream",
     "text": [
      "batch complete: 20,000 saved, 2,520,000 total, 637,155 remaining\n"
     ]
    },
    {
     "name": "stderr",
     "output_type": "stream",
     "text": [
      "FY2025:  80%|██████████████████████████████▍       | 2500000/3117155 [19:06<06:01, 1709.47records/s]"
     ]
    },
    {
     "name": "stdout",
     "output_type": "stream",
     "text": [
      "batch complete: 20,000 saved, 2,540,000 total, 617,155 remaining\n"
     ]
    },
    {
     "name": "stderr",
     "output_type": "stream",
     "text": [
      "FY2025:  81%|██████████████████████████████▋       | 2520000/3117155 [19:18<05:52, 1693.51records/s]"
     ]
    },
    {
     "name": "stdout",
     "output_type": "stream",
     "text": [
      "batch complete: 20,000 saved, 2,560,000 total, 597,155 remaining\n"
     ]
    },
    {
     "name": "stderr",
     "output_type": "stream",
     "text": [
      "FY2025:  81%|██████████████████████████████▉       | 2540000/3117155 [19:29<05:38, 1706.61records/s]"
     ]
    },
    {
     "name": "stdout",
     "output_type": "stream",
     "text": [
      "batch complete: 20,000 saved, 2,580,000 total, 577,155 remaining\n"
     ]
    },
    {
     "name": "stderr",
     "output_type": "stream",
     "text": [
      "FY2025:  82%|███████████████████████████████▏      | 2560000/3117155 [19:41<05:28, 1694.87records/s]"
     ]
    },
    {
     "name": "stdout",
     "output_type": "stream",
     "text": [
      "batch complete: 20,000 saved, 2,600,000 total, 557,155 remaining\n"
     ]
    },
    {
     "name": "stderr",
     "output_type": "stream",
     "text": [
      "FY2025:  83%|███████████████████████████████▍      | 2580000/3117155 [19:55<05:33, 1609.07records/s]"
     ]
    },
    {
     "name": "stdout",
     "output_type": "stream",
     "text": [
      "batch complete: 20,000 saved, 2,620,000 total, 537,155 remaining\n"
     ]
    },
    {
     "name": "stderr",
     "output_type": "stream",
     "text": [
      "FY2025:  83%|███████████████████████████████▋      | 2600000/3117155 [20:08<05:20, 1614.43records/s]"
     ]
    },
    {
     "name": "stdout",
     "output_type": "stream",
     "text": [
      "batch complete: 20,000 saved, 2,640,000 total, 517,155 remaining\n"
     ]
    },
    {
     "name": "stderr",
     "output_type": "stream",
     "text": [
      "FY2025:  84%|███████████████████████████████▉      | 2620000/3117155 [20:21<05:16, 1570.23records/s]"
     ]
    },
    {
     "name": "stdout",
     "output_type": "stream",
     "text": [
      "batch complete: 20,000 saved, 2,660,000 total, 497,155 remaining\n"
     ]
    },
    {
     "name": "stderr",
     "output_type": "stream",
     "text": [
      "FY2025:  85%|████████████████████████████████▏     | 2640000/3117155 [20:33<05:00, 1588.04records/s]"
     ]
    },
    {
     "name": "stdout",
     "output_type": "stream",
     "text": [
      "batch complete: 20,000 saved, 2,680,000 total, 477,155 remaining\n"
     ]
    },
    {
     "name": "stderr",
     "output_type": "stream",
     "text": [
      "FY2025:  85%|████████████████████████████████▍     | 2660000/3117155 [20:45<04:41, 1622.43records/s]"
     ]
    },
    {
     "name": "stdout",
     "output_type": "stream",
     "text": [
      "batch complete: 20,000 saved, 2,700,000 total, 457,155 remaining\n"
     ]
    },
    {
     "name": "stderr",
     "output_type": "stream",
     "text": [
      "FY2025:  86%|████████████████████████████████▋     | 2680000/3117155 [20:58<04:30, 1614.02records/s]"
     ]
    },
    {
     "name": "stdout",
     "output_type": "stream",
     "text": [
      "batch complete: 20,000 saved, 2,720,000 total, 437,155 remaining\n"
     ]
    },
    {
     "name": "stderr",
     "output_type": "stream",
     "text": [
      "FY2025:  87%|████████████████████████████████▉     | 2700000/3117155 [21:11<04:21, 1593.54records/s]"
     ]
    },
    {
     "name": "stdout",
     "output_type": "stream",
     "text": [
      "batch complete: 20,000 saved, 2,740,000 total, 417,155 remaining\n"
     ]
    },
    {
     "name": "stderr",
     "output_type": "stream",
     "text": [
      "FY2025:  87%|█████████████████████████████████▏    | 2720000/3117155 [21:22<04:04, 1622.54records/s]"
     ]
    },
    {
     "name": "stdout",
     "output_type": "stream",
     "text": [
      "batch complete: 20,000 saved, 2,760,000 total, 397,155 remaining\n"
     ]
    },
    {
     "name": "stderr",
     "output_type": "stream",
     "text": [
      "FY2025:  88%|█████████████████████████████████▍    | 2740000/3117155 [21:35<03:51, 1625.97records/s]"
     ]
    },
    {
     "name": "stdout",
     "output_type": "stream",
     "text": [
      "batch complete: 20,000 saved, 2,780,000 total, 377,155 remaining\n"
     ]
    },
    {
     "name": "stderr",
     "output_type": "stream",
     "text": [
      "FY2025:  89%|█████████████████████████████████▋    | 2760000/3117155 [21:47<03:41, 1615.12records/s]"
     ]
    },
    {
     "name": "stdout",
     "output_type": "stream",
     "text": [
      "batch complete: 20,000 saved, 2,800,000 total, 357,155 remaining\n"
     ]
    },
    {
     "name": "stderr",
     "output_type": "stream",
     "text": [
      "FY2025:  89%|█████████████████████████████████▉    | 2780000/3117155 [22:01<03:35, 1567.79records/s]"
     ]
    },
    {
     "name": "stdout",
     "output_type": "stream",
     "text": [
      "batch complete: 20,000 saved, 2,820,000 total, 337,155 remaining\n"
     ]
    },
    {
     "name": "stderr",
     "output_type": "stream",
     "text": [
      "FY2025:  90%|██████████████████████████████████▏   | 2800000/3117155 [22:14<03:25, 1546.82records/s]"
     ]
    },
    {
     "name": "stdout",
     "output_type": "stream",
     "text": [
      "batch complete: 20,000 saved, 2,840,000 total, 317,155 remaining\n"
     ]
    },
    {
     "name": "stderr",
     "output_type": "stream",
     "text": [
      "FY2025:  90%|██████████████████████████████████▍   | 2820000/3117155 [22:27<03:10, 1558.31records/s]"
     ]
    },
    {
     "name": "stdout",
     "output_type": "stream",
     "text": [
      "batch complete: 20,000 saved, 2,860,000 total, 297,155 remaining\n"
     ]
    },
    {
     "name": "stderr",
     "output_type": "stream",
     "text": [
      "FY2025:  91%|██████████████████████████████████▌   | 2840000/3117155 [22:39<02:55, 1579.08records/s]"
     ]
    },
    {
     "name": "stdout",
     "output_type": "stream",
     "text": [
      "batch complete: 20,000 saved, 2,880,000 total, 277,155 remaining\n"
     ]
    },
    {
     "name": "stderr",
     "output_type": "stream",
     "text": [
      "FY2025:  92%|██████████████████████████████████▊   | 2860000/3117155 [22:52<02:44, 1565.27records/s]"
     ]
    },
    {
     "name": "stdout",
     "output_type": "stream",
     "text": [
      "batch complete: 20,000 saved, 2,900,000 total, 257,155 remaining\n"
     ]
    },
    {
     "name": "stderr",
     "output_type": "stream",
     "text": [
      "FY2025:  92%|███████████████████████████████████   | 2880000/3117155 [23:04<02:30, 1578.37records/s]"
     ]
    },
    {
     "name": "stdout",
     "output_type": "stream",
     "text": [
      "batch complete: 20,000 saved, 2,920,000 total, 237,155 remaining\n"
     ]
    },
    {
     "name": "stderr",
     "output_type": "stream",
     "text": [
      "FY2025:  93%|███████████████████████████████████▎  | 2900000/3117155 [23:17<02:17, 1582.72records/s]"
     ]
    },
    {
     "name": "stdout",
     "output_type": "stream",
     "text": [
      "batch complete: 20,000 saved, 2,940,000 total, 217,155 remaining\n"
     ]
    },
    {
     "name": "stderr",
     "output_type": "stream",
     "text": [
      "FY2025:  94%|███████████████████████████████████▌  | 2920000/3117155 [23:30<02:04, 1581.13records/s]"
     ]
    },
    {
     "name": "stdout",
     "output_type": "stream",
     "text": [
      "batch complete: 20,000 saved, 2,960,000 total, 197,155 remaining\n"
     ]
    },
    {
     "name": "stderr",
     "output_type": "stream",
     "text": [
      "FY2025:  94%|███████████████████████████████████▊  | 2940000/3117155 [23:42<01:51, 1592.15records/s]"
     ]
    },
    {
     "name": "stdout",
     "output_type": "stream",
     "text": [
      "batch complete: 20,000 saved, 2,980,000 total, 177,155 remaining\n"
     ]
    },
    {
     "name": "stderr",
     "output_type": "stream",
     "text": [
      "FY2025:  95%|████████████████████████████████████  | 2960000/3117155 [23:55<01:38, 1594.55records/s]"
     ]
    },
    {
     "name": "stdout",
     "output_type": "stream",
     "text": [
      "batch complete: 20,000 saved, 3,000,000 total, 157,155 remaining\n"
     ]
    },
    {
     "name": "stderr",
     "output_type": "stream",
     "text": [
      "FY2025:  96%|████████████████████████████████████▎ | 2980000/3117155 [24:07<01:26, 1588.05records/s]"
     ]
    },
    {
     "name": "stdout",
     "output_type": "stream",
     "text": [
      "batch complete: 20,000 saved, 3,020,000 total, 137,155 remaining\n"
     ]
    },
    {
     "name": "stderr",
     "output_type": "stream",
     "text": [
      "FY2025:  96%|████████████████████████████████████▌ | 3000000/3117155 [24:19<01:13, 1603.70records/s]"
     ]
    },
    {
     "name": "stdout",
     "output_type": "stream",
     "text": [
      "batch complete: 20,000 saved, 3,040,000 total, 117,155 remaining\n"
     ]
    },
    {
     "name": "stderr",
     "output_type": "stream",
     "text": [
      "FY2025:  96%|████████████████████████████████████▌ | 3000000/3117155 [24:22<01:13, 1603.70records/s]"
     ]
    },
    {
     "name": "stdout",
     "output_type": "stream",
     "text": [
      "batch failed: invalid xml response: syntax error: line 1, column 0\n",
      "retrying in 5 seconds...\n"
     ]
    },
    {
     "name": "stderr",
     "output_type": "stream",
     "text": [
      "FY2025:  96%|████████████████████████████████████▌ | 3000000/3117155 [24:28<01:13, 1603.70records/s]"
     ]
    },
    {
     "name": "stdout",
     "output_type": "stream",
     "text": [
      "batch failed: invalid xml response: syntax error: line 1, column 0\n",
      "retrying in 5 seconds...\n"
     ]
    },
    {
     "name": "stderr",
     "output_type": "stream",
     "text": [
      "FY2025:  96%|████████████████████████████████████▌ | 3000000/3117155 [25:05<01:13, 1603.70records/s]"
     ]
    },
    {
     "name": "stdout",
     "output_type": "stream",
     "text": [
      "batch failed: invalid xml response: syntax error: line 1, column 0\n",
      "retrying in 5 seconds...\n"
     ]
    },
    {
     "name": "stderr",
     "output_type": "stream",
     "text": [
      "FY2025:  96%|████████████████████████████████████▌ | 3000000/3117155 [25:13<01:13, 1603.70records/s]"
     ]
    },
    {
     "name": "stdout",
     "output_type": "stream",
     "text": [
      "batch failed: invalid xml response: syntax error: line 1, column 0\n",
      "retrying in 5 seconds...\n"
     ]
    },
    {
     "name": "stderr",
     "output_type": "stream",
     "text": [
      "FY2025:  97%|█████████████████████████████████████▊ | 3020000/3117155 [25:31<02:25, 665.48records/s]"
     ]
    },
    {
     "name": "stdout",
     "output_type": "stream",
     "text": [
      "batch complete: 20,000 saved, 3,060,000 total, 97,155 remaining\n"
     ]
    },
    {
     "name": "stderr",
     "output_type": "stream",
     "text": [
      "FY2025:  98%|██████████████████████████████████████ | 3040000/3117155 [25:44<01:36, 798.85records/s]"
     ]
    },
    {
     "name": "stdout",
     "output_type": "stream",
     "text": [
      "batch complete: 20,000 saved, 3,080,000 total, 77,155 remaining\n"
     ]
    },
    {
     "name": "stderr",
     "output_type": "stream",
     "text": [
      "FY2025:  98%|██████████████████████████████████████▎| 3060000/3117155 [25:57<01:00, 937.92records/s]"
     ]
    },
    {
     "name": "stdout",
     "output_type": "stream",
     "text": [
      "batch complete: 20,000 saved, 3,100,000 total, 57,155 remaining\n"
     ]
    },
    {
     "name": "stderr",
     "output_type": "stream",
     "text": [
      "FY2025:  98%|██████████████████████████████████████▎| 3060000/3117155 [26:01<01:00, 937.92records/s]"
     ]
    },
    {
     "name": "stdout",
     "output_type": "stream",
     "text": [
      "batch failed: invalid xml response: syntax error: line 1, column 49\n",
      "retrying in 5 seconds...\n"
     ]
    },
    {
     "name": "stderr",
     "output_type": "stream",
     "text": [
      "FY2025:  99%|██████████████████████████████████████▌| 3080000/3117155 [26:27<00:44, 826.50records/s]"
     ]
    },
    {
     "name": "stdout",
     "output_type": "stream",
     "text": [
      "batch complete: 20,000 saved, 3,120,000 total, 37,155 remaining\n"
     ]
    },
    {
     "name": "stderr",
     "output_type": "stream",
     "text": [
      "FY2025:  99%|██████████████████████████████████████▊| 3100000/3117155 [26:49<00:20, 849.51records/s]"
     ]
    },
    {
     "name": "stdout",
     "output_type": "stream",
     "text": [
      "batch complete: 20,000 saved, 3,140,000 total, 17,155 remaining\n"
     ]
    },
    {
     "name": "stderr",
     "output_type": "stream",
     "text": [
      "FY2025: 100%|███████████████████████████████████████| 3117155/3117155 [27:03<00:00, 932.96records/s]"
     ]
    },
    {
     "name": "stdout",
     "output_type": "stream",
     "text": [
      "batch complete: 17,155 saved, 3,157,155 total, 0 remaining\n"
     ]
    },
    {
     "name": "stderr",
     "output_type": "stream",
     "text": [
      "FY2025: 100%|██████████████████████████████████████| 3117155/3117155 [27:04<00:00, 1918.78records/s]\n"
     ]
    },
    {
     "name": "stdout",
     "output_type": "stream",
     "text": [
      "download complete: 3,157,155 total records saved\n"
     ]
    }
   ],
   "source": [
    "# download all 3+ million records\n",
    "download_all_spending(xml_template, 2025, retrievable_records)"
   ]
  },
  {
   "cell_type": "markdown",
   "id": "0f9e02c6-74eb-4435-b156-17bd5194ebf1",
   "metadata": {},
   "source": [
    "### Function Calls"
   ]
  },
  {
   "cell_type": "code",
   "execution_count": null,
   "id": "6eec9957-51fc-493f-ad13-c878a43eaef6",
   "metadata": {
    "collapsed": true,
    "jupyter": {
     "outputs_hidden": true
    }
   },
   "outputs": [],
   "source": []
  },
  {
   "cell_type": "markdown",
   "id": "fa6af038-d164-4d9e-8aa3-c467fd4b3697",
   "metadata": {},
   "source": [
    "## Peek in Parquet Files"
   ]
  },
  {
   "cell_type": "code",
   "execution_count": null,
   "id": "7ad0c0ea-ecca-4f5b-8c9a-f0c9c6cc4a25",
   "metadata": {},
   "outputs": [],
   "source": [
    "# file_path = \"checkbook_data/spending_2025.parquet\"\n",
    "file_path = \"checkbook_data/duplicates_spending_2025.parquet\"\n",
    "\n",
    "\n",
    "# read the Parquet file into a DataFrame\n",
    "df = pd.read_parquet(file_path, engine=\"pyarrow\") \n",
    "\n",
    "# look at the first few rows\n",
    "print(df.head())\n",
    "\n",
    "# see general info\n",
    "print(df.info())\n",
    "\n",
    "# get column names\n",
    "print(df.columns)"
   ]
  },
  {
   "cell_type": "code",
   "execution_count": 22,
   "id": "9ded62e5-593c-48a9-b8bb-45f4d0148e9e",
   "metadata": {},
   "outputs": [
    {
     "name": "stdout",
     "output_type": "stream",
     "text": [
      "file exists: 3157155 records\n",
      "xml files: 6\n"
     ]
    }
   ],
   "source": [
    "# check what actually got saved\n",
    "out_file = OUTPUT_DIR / f\"spending_{fiscal_year}.parquet\"\n",
    "if out_file.exists():\n",
    "    df_check = pd.read_parquet(out_file)\n",
    "    print(f\"file exists: {len(df_check)} records\")\n",
    "else:\n",
    "    print(\"no file created\")\n",
    "    \n",
    "# check if xml was saved\n",
    "xml_files = list(OUTPUT_DIR.glob(\"raw_FY*.xml\"))\n",
    "print(f\"xml files: {len(xml_files)}\")"
   ]
  },
  {
   "cell_type": "code",
   "execution_count": null,
   "id": "689b8155-c2fe-4463-9011-31990916121d",
   "metadata": {},
   "outputs": [],
   "source": []
  },
  {
   "cell_type": "markdown",
   "id": "7b12d14a-449d-47ef-9460-6273f71aa348",
   "metadata": {},
   "source": [
    "###  API Notes"
   ]
  },
  {
   "cell_type": "markdown",
   "id": "9f001908-0e6d-4c82-aa7a-2da13f9a25f2",
   "metadata": {},
   "source": [
    "https://www.checkbooknyc.com/spending-api\n",
    "\n",
    "- retrieval limit: 20K records per call\n",
    "- FY25: 3.2M transactions \n",
    "- to retrieve all: stagger `records_from` "
   ]
  },
  {
   "cell_type": "markdown",
   "id": "c1d8a7ad-4e43-45a8-80ca-ffc2455ab0a8",
   "metadata": {},
   "source": [
    "3,157,063 transactions <- as of 8/22 from data feeds https://www.checkbooknyc.com/data-feeds "
   ]
  },
  {
   "cell_type": "markdown",
   "id": "a96b1500-e99b-4093-a91e-7092005047d2",
   "metadata": {},
   "source": [
    "##### XML request:\n",
    "- global params: `type_of_data`, `records_from`, `max_records`\n",
    "- filters: put in `<search_criteria>`\n",
    "- requested columns: put in `<response_columns>`"
   ]
  },
  {
   "cell_type": "markdown",
   "id": "206d0c87-339a-4335-bb48-3f9b75bb9a82",
   "metadata": {},
   "source": [
    "##### XML response: \n",
    "- `<search_criteria>`: echoes request xml\n",
    "- `<result_records>`: current result batch based on `records_from` and `max_records`\n",
    "- `<record_count>`: TOTAL rows\n",
    "- `<messages>`: errors + status info\n",
    "- `<status>`: success/failure of request"
   ]
  },
  {
   "cell_type": "markdown",
   "id": "1b439510-0065-4afe-865b-6668235501d3",
   "metadata": {
    "collapsed": true,
    "jupyter": {
     "outputs_hidden": true
    }
   },
   "source": [
    "##### prossibly outdated thread on rate limits\n",
    "https://groups.google.com/g/checkbooknyc/c/hgU1niDG00Y?pli=1"
   ]
  },
  {
   "cell_type": "code",
   "execution_count": null,
   "id": "56fba19a-6651-4281-9815-517875ccf9b6",
   "metadata": {},
   "outputs": [],
   "source": []
  },
  {
   "cell_type": "markdown",
   "id": "2566b5c7-023e-4212-a880-5544f5edbc22",
   "metadata": {},
   "source": [
    "## technical notes"
   ]
  },
  {
   "cell_type": "markdown",
   "id": "290ff2c9-8600-4549-b9e3-d9976ef52feb",
   "metadata": {},
   "source": [
    "### api integration:\n",
    "- bypass incapsula bot protection using session mgmt + browser headers\n",
    "- learn xml format structure requirements of checkbooknyc api\n",
    "- debug XML templating issues betewen f-strings vs `.format()`\n",
    "\n",
    "### pagination / data integrity:\n",
    "- **problem**: deduplication approach failed - legitimate different records marked as duplicates\n",
    "- **root cause**: overlapping requests (requesting records 1-20000 when file had 1-19815)\n",
    "- **solution**: range tracking with atomic saves eliminates deduplication need\n",
    "\n",
    "### download architecture:\n",
    "- resumable downloads using file length to calculate next offset\n",
    "- atomic batch operations ensure data consistency if interrupted\n",
    "- complying with rate limiting + error handling with auto retry\n",
    "- progress tracking for slo downloads (e.g., full FY)\n",
    "\n",
    "### key insights\n",
    "- solve api pagination problem at the request level (proper offsets) instead of data level (deduplication).\n",
    "- separate concerns: overlapping requests vs. data consistency\n",
    "- well-structured batch system with proper offsets -> remarkably less data mucking / data handling complexity"
   ]
  },
  {
   "cell_type": "code",
   "execution_count": null,
   "id": "8b644f0f-24e6-45fc-8ba7-dd1bf89b2da9",
   "metadata": {},
   "outputs": [],
   "source": []
  }
 ],
 "metadata": {
  "kernelspec": {
   "display_name": "Python (venv)",
   "language": "python",
   "name": "venv"
  },
  "language_info": {
   "codemirror_mode": {
    "name": "ipython",
    "version": 3
   },
   "file_extension": ".py",
   "mimetype": "text/x-python",
   "name": "python",
   "nbconvert_exporter": "python",
   "pygments_lexer": "ipython3",
   "version": "3.13.5"
  }
 },
 "nbformat": 4,
 "nbformat_minor": 5
}
