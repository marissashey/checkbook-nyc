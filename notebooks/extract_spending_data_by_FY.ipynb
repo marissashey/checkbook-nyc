{
 "cells": [
  {
   "cell_type": "markdown",
   "id": "7faa8611-11cf-4667-a3a4-f2ff809bb931",
   "metadata": {},
   "source": [
    "# Extract Spending Data by Fiscal Year"
   ]
  },
  {
   "cell_type": "code",
   "execution_count": 72,
   "id": "4093848b-4d72-4535-8156-fe0910e0df5c",
   "metadata": {},
   "outputs": [],
   "source": [
    "import requests\n",
    "import xml.etree.ElementTree as ET\n",
    "import time\n",
    "import pandas as pd\n",
    "from pathlib import Path\n",
    "import xml.dom.minidom\n",
    "import math"
   ]
  },
  {
   "cell_type": "code",
   "execution_count": 55,
   "id": "eb2f997a-ca5c-4a86-ae28-ccce257e7647",
   "metadata": {},
   "outputs": [],
   "source": [
    "API_URL = \"https://www.checkbooknyc.com/api\"\n",
    "TEMP_XML_FILE = Path(\"tmp_latest_sandbox_response.xml\")  # same temp file each time\n",
    "TIMEOUT = (10, 300) # connect_timeout, read_timeout for requests\n",
    "OUTPUT_DIR = Path(\"checkbook_data\")\n",
    "OUTPUT_DIR.mkdir(exist_ok=True)\n",
    "BATCH_SIZE = 20000  # API's retrieval limit on records per request"
   ]
  },
  {
   "cell_type": "code",
   "execution_count": 54,
   "id": "6704becc-099f-45d0-90c4-e4e42d7526bf",
   "metadata": {
    "scrolled": true
   },
   "outputs": [
    {
     "name": "stdout",
     "output_type": "stream",
     "text": [
      "main site status: 200\n"
     ]
    }
   ],
   "source": [
    "# session set up\n",
    "session = requests.Session()\n",
    "session.headers.update({\n",
    "    'content-type': 'application/xml',\n",
    "    'user-agent': 'mozilla/5.0 (windows nt 10.0; win64; x64) applewebkit/537.36'\n",
    "})\n",
    "\n",
    "# **** visit main site initially to bypass incapsula ****\n",
    "response = session.get('https://www.checkbooknyc.com/', timeout=TIMEOUT)\n",
    "print(f\"main site status: {response.status_code}\")\n",
    "time.sleep(2)\n",
    "\n",
    "session.headers.update({\n",
    "    'content-type': 'application/xml',\n",
    "    'referer': 'https://www.checkbooknyc.com/',\n",
    "    'origin': 'https://www.checkbooknyc.com'\n",
    "})"
   ]
  },
  {
   "cell_type": "code",
   "execution_count": null,
   "id": "c8602086-cec3-4513-83fd-4272ca0c70f0",
   "metadata": {},
   "outputs": [],
   "source": []
  },
  {
   "cell_type": "markdown",
   "id": "5c6b2288-3cec-464f-b996-5b81697e779e",
   "metadata": {},
   "source": [
    "## Helpers"
   ]
  },
  {
   "cell_type": "code",
   "execution_count": 62,
   "id": "c31c1a79-4bb6-4ce2-a4bf-05c996f1e86e",
   "metadata": {},
   "outputs": [],
   "source": [
    "def fetch_xml(payload: str, verbose: bool = False) -> ET.Element:\n",
    "    response = session.post(API_URL, data=payload, timeout=60)\n",
    "    response.raise_for_status()\n",
    "\n",
    "    if verbose:\n",
    "        xml_str = response.content.decode('utf-8')\n",
    "        print(xml_str)\n",
    "        \n",
    "    return ET.fromstring(response.content)\n",
    "\n",
    "def parse_transactions(xml_root: ET.Element) -> pd.DataFrame:\n",
    "    records = []\n",
    "    for txn in xml_root.findall(\".//transaction\"):\n",
    "        row = {child.tag: (child.text or \"\").strip() for child in txn}\n",
    "        records.append(row)\n",
    "    return pd.DataFrame(records)\n",
    "\n",
    "def get_record_count(xml_root: ET.Element) -> int:\n",
    "    count_tag = xml_root.find(\".//result_records/record_count\")\n",
    "    return int(count_tag.text) if count_tag is not None else 0\n",
    "\n",
    "def download_transactions(xml_body_template: str, year: int, batches_needed: int):\n",
    "    \"\"\"\n",
    "    \"\"\"\n",
    "    offset = 1\n",
    "    batch = 0\n",
    "\n",
    "    while True:\n",
    "        xml_body = xml_body_template.format(records_from=offset, max_records=MAX_RECORDS)\n",
    "        root = fetch_xml(xml_body)\n",
    "\n",
    "        if batch == 0:\n",
    "            total_records = get_record_count(root)\n",
    "            print(f\"Total records for FY{year}: {total_records:,}\")\n",
    "\n",
    "        df = parse_transactions(root)\n",
    "        if df.empty:\n",
    "            print(f\"Finished FY{year} after {batch} batches\")\n",
    "            break\n",
    "\n",
    "        # append batch to parquet\n",
    "        out_file = OUTPUT_DIR / f\"spending_{year}.parquet\"\n",
    "        df.to_parquet(out_file, engine=\"pyarrow\", index=False, append=True)\n",
    "        print(f\"Saved batch {batch} ({len(df)} rows), offset={offset}\")\n",
    "\n",
    "        offset += MAX_RECORDS\n",
    "        batch += 1\n",
    "        if offset > total_records:\n",
    "            print(f\"All {total_records:,} rows downloaded for FY{year}\")\n",
    "            break"
   ]
  },
  {
   "cell_type": "code",
   "execution_count": null,
   "id": "cfd3e120-2817-4fdc-971a-1379830046c8",
   "metadata": {},
   "outputs": [],
   "source": []
  },
  {
   "cell_type": "markdown",
   "id": "d1e7dfd7-bb5b-422f-8f15-c090578d63b8",
   "metadata": {},
   "source": [
    "## Initial Metadata Request: Determining Pagination"
   ]
  },
  {
   "cell_type": "code",
   "execution_count": 67,
   "id": "12d40c5a-508b-4f6d-8d2e-c448254bbcc9",
   "metadata": {},
   "outputs": [],
   "source": [
    "fiscal_year = 2025"
   ]
  },
  {
   "cell_type": "code",
   "execution_count": 68,
   "id": "435e269d-bc19-454a-ba60-aa93de36f783",
   "metadata": {},
   "outputs": [],
   "source": [
    "seed_request=f\"\"\"\n",
    "<request>\n",
    "  <type_of_data>Spending</type_of_data>\n",
    "  <records_from>1</records_from>\n",
    "  <max_records>1</max_records>\n",
    "  <search_criteria>\n",
    "   <criteria>\n",
    "      <name>fiscal_year</name>\n",
    "      <type>value</type>\n",
    "      <value>{fiscal_year}</value>\n",
    "    </criteria>\n",
    "  </search_criteria>\n",
    "  <response_columns/>\n",
    "</request>\n",
    "\"\"\""
   ]
  },
  {
   "cell_type": "code",
   "execution_count": 69,
   "id": "6c7b64e9-8442-469a-abf3-5b8f55d66990",
   "metadata": {
    "scrolled": true
   },
   "outputs": [
    {
     "name": "stdout",
     "output_type": "stream",
     "text": [
      "<?xml version=\"1.0\"?>\n",
      "<response>\n",
      "  <status>\n",
      "    <result>success</result>\n",
      "  </status>\n",
      "  <request_criteria>\n",
      "    <request>\n",
      "      <type_of_data>Spending</type_of_data>\n",
      "      <records_from>1</records_from>\n",
      "      <max_records>1</max_records>\n",
      "      <search_criteria>\n",
      "        <criteria>\n",
      "          <name>fiscal_year</name>\n",
      "          <type>value</type>\n",
      "          <value>2025</value>\n",
      "        </criteria>\n",
      "      </search_criteria>\n",
      "      <response_columns/>\n",
      "    </request>\n",
      "  </request_criteria>\n",
      "  <result_records>\n",
      "    <record_count>3157155</record_count>\n",
      "    <spending_transactions>\n",
      "      <transaction>\n",
      "        <agency>Department of Education</agency>\n",
      "        <associated_prime_vendor>N/A</associated_prime_vendor>\n",
      "        <budget_code>4301</budget_code>\n",
      "        <capital_project/>\n",
      "        <contract_id/>\n",
      "        <mocs_registered>No</mocs_registered>\n",
      "        <contract_purpose/>\n",
      "        <check_amount>153402038.46</check_amount>\n",
      "        <department>GE INSTR &amp; SCH LEADERSHIP - PS</department>\n",
      "        <document_id/>\n",
      "        <expense_category>Payroll Summary</expense_category>\n",
      "        <fiscal_year>2025</fiscal_year>\n",
      "        <industry/>\n",
      "        <issue_date>2025-02-14</issue_date>\n",
      "        <mwbe_category>Individuals and Others</mwbe_category>\n",
      "        <woman_owned_business>No </woman_owned_business>\n",
      "        <emerging_business>No </emerging_business>\n",
      "        <payee_name>GE INSTR &amp; SCH LEADERSHIP - PS</payee_name>\n",
      "        <spending_category>Payroll</spending_category>\n",
      "        <sub_contract_reference_id/>\n",
      "        <sub_vendor>No</sub_vendor>\n",
      "      </transaction>\n",
      "    </spending_transactions>\n",
      "  </result_records>\n",
      "</response>\n",
      "\n"
     ]
    }
   ],
   "source": [
    "seed_root = fetch_xml(seed_request,verbose=True)"
   ]
  },
  {
   "cell_type": "code",
   "execution_count": 73,
   "id": "1049c6b6-90e1-4e41-922f-3f4223c1bcd7",
   "metadata": {},
   "outputs": [
    {
     "name": "stdout",
     "output_type": "stream",
     "text": [
      "\n",
      "Seed Request Results for FY 2025\n",
      "=========================================\n",
      "Total retrievable records: 3157155\n",
      "Batches needed: 158\n",
      "\n"
     ]
    }
   ],
   "source": [
    "retrievable_records = get_record_count(seed_root)\n",
    "batches_needed = math.ceil(retrievable_records / BATCH_SIZE)\n",
    "\n",
    "print(f\"\"\"\n",
    "Seed Request Results for FY {fiscal_year}\n",
    "=========================================\n",
    "Total retrievable records: {retrievable_records}\n",
    "Batches needed: {batches_needed}\n",
    "\"\"\")"
   ]
  },
  {
   "cell_type": "code",
   "execution_count": null,
   "id": "9acd1d33-adcc-4b4d-8bf0-3461578ea8b2",
   "metadata": {},
   "outputs": [],
   "source": []
  },
  {
   "cell_type": "code",
   "execution_count": 16,
   "id": "232698e8-c022-49a0-b92c-443842784a3e",
   "metadata": {},
   "outputs": [
    {
     "ename": "NameError",
     "evalue": "name 'records_from' is not defined",
     "output_type": "error",
     "traceback": [
      "\u001b[31m---------------------------------------------------------------------------\u001b[39m",
      "\u001b[31mNameError\u001b[39m                                 Traceback (most recent call last)",
      "\u001b[36mCell\u001b[39m\u001b[36m \u001b[39m\u001b[32mIn[16]\u001b[39m\u001b[32m, line 5\u001b[39m\n\u001b[32m      1\u001b[39m \u001b[38;5;66;03m# Example XML template (adjust fiscal_year, filters, columns)\u001b[39;00m\n\u001b[32m      2\u001b[39m xml_template=\u001b[33mf\u001b[39m\u001b[33m\"\"\"\u001b[39m\n\u001b[32m      3\u001b[39m \u001b[33m<request>\u001b[39m\n\u001b[32m      4\u001b[39m \u001b[33m  <type_of_data>Spending</type_of_data>\u001b[39m\n\u001b[32m----> \u001b[39m\u001b[32m5\u001b[39m \u001b[33m  <records_from>\u001b[39m\u001b[38;5;132;01m{\u001b[39;00m\u001b[43mrecords_from\u001b[49m\u001b[38;5;132;01m}\u001b[39;00m\u001b[33m</records_from>\u001b[39m\n\u001b[32m      6\u001b[39m \u001b[33m  <max_records>\u001b[39m\u001b[38;5;132;01m{\u001b[39;00mmax_records\u001b[38;5;132;01m}\u001b[39;00m\u001b[33m</max_records>\u001b[39m\n\u001b[32m      7\u001b[39m \u001b[33m  <search_criteria>\u001b[39m\n\u001b[32m      8\u001b[39m \u001b[33m   <criteria>\u001b[39m\n\u001b[32m      9\u001b[39m \u001b[33m      <name>fiscal_year</name>\u001b[39m\n\u001b[32m     10\u001b[39m \u001b[33m      <type>value</type>\u001b[39m\n\u001b[32m     11\u001b[39m \u001b[33m      <value>2025</value>\u001b[39m\n\u001b[32m     12\u001b[39m \u001b[33m    </criteria>\u001b[39m\n\u001b[32m     13\u001b[39m \u001b[33m  </search_criteria>\u001b[39m\n\u001b[32m     14\u001b[39m \u001b[33m  <response_columns>\u001b[39m\n\u001b[32m     15\u001b[39m \u001b[33m    <column>agency</column>\u001b[39m\n\u001b[32m     16\u001b[39m \u001b[33m    <column>spending_category</column>\u001b[39m\n\u001b[32m     17\u001b[39m \u001b[33m    <column>document_id</column>\u001b[39m\n\u001b[32m     18\u001b[39m \u001b[33m    <column>payee_name</column>\u001b[39m\n\u001b[32m     19\u001b[39m \u001b[33m    <column>check_amount</column>\u001b[39m\n\u001b[32m     20\u001b[39m \u001b[33m    <column>department</column>\u001b[39m\n\u001b[32m     21\u001b[39m \u001b[33m    <column>sub_vendor</column>\u001b[39m\n\u001b[32m     22\u001b[39m \u001b[33m    <column>sub_contract_reference_id</column>\u001b[39m\n\u001b[32m     23\u001b[39m \u001b[33m    <column>fiscal_year</column>\u001b[39m\n\u001b[32m     24\u001b[39m \u001b[33m    <column>emerging_business</column>\u001b[39m\n\u001b[32m     25\u001b[39m \u001b[33m    <column>mocs_registered</column>\u001b[39m\n\u001b[32m     26\u001b[39m \u001b[33m    <column>expense_category</column>\u001b[39m\n\u001b[32m     27\u001b[39m \u001b[33m    <column>contract_id</column>\u001b[39m\n\u001b[32m     28\u001b[39m \u001b[33m    <column>contract_purpose</column>\u001b[39m\n\u001b[32m     29\u001b[39m \u001b[33m    <column>issue_date</column>\u001b[39m\n\u001b[32m     30\u001b[39m \u001b[33m    <column>capital_project</column>\u001b[39m\n\u001b[32m     31\u001b[39m \u001b[33m    <column>mwbe_category</column>\u001b[39m\n\u001b[32m     32\u001b[39m \u001b[33m    <column>associated_prime_vendor</column>\u001b[39m\n\u001b[32m     33\u001b[39m \u001b[33m    <column>industry</column>\u001b[39m\n\u001b[32m     34\u001b[39m \u001b[33m    <column>woman_owned_business</column>\u001b[39m\n\u001b[32m     35\u001b[39m \u001b[33m    <column>budget_code</column>\u001b[39m\n\u001b[32m     36\u001b[39m \u001b[33m  </response_columns>\u001b[39m\n\u001b[32m     37\u001b[39m \u001b[33m</request>\u001b[39m\n\u001b[32m     38\u001b[39m \u001b[33m\"\"\"\u001b[39m\n",
      "\u001b[31mNameError\u001b[39m: name 'records_from' is not defined"
     ]
    }
   ],
   "source": [
    "# Example XML template (adjust fiscal_year, filters, columns)\n",
    "records_from=1\n",
    "max_records=\n",
    "\n",
    "xml_template=f\"\"\"\n",
    "<request>\n",
    "  <type_of_data>Spending</type_of_data>\n",
    "  <records_from>{records_from}</records_from>\n",
    "  <max_records>{max_records}</max_records>\n",
    "  <search_criteria>\n",
    "   <criteria>\n",
    "      <name>fiscal_year</name>\n",
    "      <type>value</type>\n",
    "      <value>2025</value>\n",
    "    </criteria>\n",
    "  </search_criteria>\n",
    "  <response_columns>\n",
    "    <column>agency</column>\n",
    "    <column>spending_category</column>\n",
    "    <column>document_id</column>\n",
    "    <column>payee_name</column>\n",
    "    <column>check_amount</column>\n",
    "    <column>department</column>\n",
    "    <column>sub_vendor</column>\n",
    "    <column>sub_contract_reference_id</column>\n",
    "    <column>fiscal_year</column>\n",
    "    <column>emerging_business</column>\n",
    "    <column>mocs_registered</column>\n",
    "    <column>expense_category</column>\n",
    "    <column>contract_id</column>\n",
    "    <column>contract_purpose</column>\n",
    "    <column>issue_date</column>\n",
    "    <column>capital_project</column>\n",
    "    <column>mwbe_category</column>\n",
    "    <column>associated_prime_vendor</column>\n",
    "    <column>industry</column>\n",
    "    <column>woman_owned_business</column>\n",
    "    <column>budget_code</column>\n",
    "  </response_columns>\n",
    "</request>\n",
    "\"\"\""
   ]
  },
  {
   "cell_type": "code",
   "execution_count": 14,
   "id": "ab27d496-a3f2-4339-8f18-5434a7153242",
   "metadata": {},
   "outputs": [
    {
     "ename": "ParseError",
     "evalue": "mismatched tag: line 7, column 9 (<string>)",
     "output_type": "error",
     "traceback": [
      "Traceback \u001b[36m(most recent call last)\u001b[39m:\n",
      "  File \u001b[92m~/dev/empire-state-of-mind/.venv/lib/python3.11/site-packages/IPython/core/interactiveshell.py:3699\u001b[39m in \u001b[95mrun_code\u001b[39m\n    exec(code_obj, self.user_global_ns, self.user_ns)\n",
      "  Cell \u001b[92mIn[14]\u001b[39m\u001b[92m, line 1\u001b[39m\n    download_transactions(xml_template, year=2025)\n",
      "  Cell \u001b[92mIn[12]\u001b[39m\u001b[92m, line 28\u001b[39m in \u001b[95mdownload_transactions\u001b[39m\n    root = fetch_xml(xml_body)\n",
      "  Cell \u001b[92mIn[12]\u001b[39m\u001b[92m, line 9\u001b[39m in \u001b[95mfetch_xml\u001b[39m\n    return ET.fromstring(response.content)\n",
      "\u001b[36m  \u001b[39m\u001b[36mFile \u001b[39m\u001b[32m/opt/homebrew/Cellar/python@3.11/3.11.13/Frameworks/Python.framework/Versions/3.11/lib/python3.11/xml/etree/ElementTree.py:1350\u001b[39m\u001b[36m in \u001b[39m\u001b[35mXML\u001b[39m\n\u001b[31m    \u001b[39m\u001b[31mparser.feed(text)\u001b[39m\n",
      "  \u001b[36mFile \u001b[39m\u001b[32m<string>\u001b[39m\n\u001b[31mParseError\u001b[39m\u001b[31m:\u001b[39m mismatched tag: line 7, column 9\n"
     ]
    }
   ],
   "source": [
    "download_transactions(xml_template, year=2025)"
   ]
  },
  {
   "cell_type": "code",
   "execution_count": null,
   "id": "6eec9957-51fc-493f-ad13-c878a43eaef6",
   "metadata": {},
   "outputs": [],
   "source": []
  },
  {
   "cell_type": "code",
   "execution_count": null,
   "id": "24d77446-81a7-4abb-a032-12d2d7339fff",
   "metadata": {},
   "outputs": [],
   "source": []
  },
  {
   "cell_type": "code",
   "execution_count": null,
   "id": "81a5ae04-801a-43d9-8b2c-ac70147557fc",
   "metadata": {},
   "outputs": [],
   "source": []
  },
  {
   "cell_type": "code",
   "execution_count": null,
   "id": "44c0b1dd-3cf1-4fb4-86b0-6e4a9dbbf2f7",
   "metadata": {},
   "outputs": [],
   "source": []
  },
  {
   "cell_type": "markdown",
   "id": "7b12d14a-449d-47ef-9460-6273f71aa348",
   "metadata": {},
   "source": [
    "###  API Notes"
   ]
  },
  {
   "cell_type": "markdown",
   "id": "9f001908-0e6d-4c82-aa7a-2da13f9a25f2",
   "metadata": {},
   "source": [
    "https://www.checkbooknyc.com/spending-api\n",
    "\n",
    "- retrieval limit: 20K records per call\n",
    "- FY25: 3.2M transactions \n",
    "- to retrieve all: stagger `records_from` "
   ]
  },
  {
   "cell_type": "markdown",
   "id": "c1d8a7ad-4e43-45a8-80ca-ffc2455ab0a8",
   "metadata": {},
   "source": [
    "3,157,063 transactions <- as of 8/22 from data feeds https://www.checkbooknyc.com/data-feeds "
   ]
  },
  {
   "cell_type": "markdown",
   "id": "a96b1500-e99b-4093-a91e-7092005047d2",
   "metadata": {},
   "source": [
    "##### XML request:\n",
    "- global params: `type_of_data`, `records_from`, `max_records`\n",
    "- filters: put in `<search_criteria>`\n",
    "- requested columns: put in `<response_columns>`"
   ]
  },
  {
   "cell_type": "markdown",
   "id": "206d0c87-339a-4335-bb48-3f9b75bb9a82",
   "metadata": {},
   "source": [
    "##### XML response: \n",
    "- `<search_criteria>`: echoes request xml\n",
    "- `<result_records>`: current result batch based on `records_from` and `max_records`\n",
    "- `<record_count>`: TOTAL rows\n",
    "- `<messages>`: errors + status info\n",
    "- `<status>`: success/failure of request"
   ]
  }
 ],
 "metadata": {
  "kernelspec": {
   "display_name": ".venv",
   "language": "python",
   "name": ".venv"
  },
  "language_info": {
   "codemirror_mode": {
    "name": "ipython",
    "version": 3
   },
   "file_extension": ".py",
   "mimetype": "text/x-python",
   "name": "python",
   "nbconvert_exporter": "python",
   "pygments_lexer": "ipython3",
   "version": "3.11.13"
  }
 },
 "nbformat": 4,
 "nbformat_minor": 5
}
