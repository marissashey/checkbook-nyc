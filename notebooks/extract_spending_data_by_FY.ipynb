{
 "cells": [
  {
   "cell_type": "markdown",
   "id": "7faa8611-11cf-4667-a3a4-f2ff809bb931",
   "metadata": {},
   "source": [
    "# Extract Spending Data by Fiscal Year"
   ]
  },
  {
   "cell_type": "code",
   "execution_count": 1,
   "id": "4093848b-4d72-4535-8156-fe0910e0df5c",
   "metadata": {},
   "outputs": [],
   "source": [
    "import requests\n",
    "import xml.etree.ElementTree as ET\n",
    "import time\n",
    "import pandas as pd\n",
    "from pathlib import Path\n",
    "import xml.dom.minidom\n",
    "import math\n",
    "from tqdm import tqdm\n",
    "import pyarrow as pa\n",
    "import pyarrow.parquet as pq"
   ]
  },
  {
   "cell_type": "code",
   "execution_count": 2,
   "id": "eb2f997a-ca5c-4a86-ae28-ccce257e7647",
   "metadata": {},
   "outputs": [],
   "source": [
    "API_URL = \"https://www.checkbooknyc.com/api\"\n",
    "TEMP_XML_FILE = Path(\"tmp_latest_response.xml\")  # same temp file each time\n",
    "TIMEOUT = (300, 300) # connect_timeout, read_timeout for requests\n",
    "OUTPUT_DIR = Path(\"checkbook_data\")\n",
    "OUTPUT_DIR.mkdir(exist_ok=True)\n",
    "BATCH_SIZE = 20000  # API's retrieval limit on records per request"
   ]
  },
  {
   "cell_type": "code",
   "execution_count": 3,
   "id": "6704becc-099f-45d0-90c4-e4e42d7526bf",
   "metadata": {
    "scrolled": true
   },
   "outputs": [
    {
     "name": "stdout",
     "output_type": "stream",
     "text": [
      "main site status: 200\n"
     ]
    }
   ],
   "source": [
    "# session set up\n",
    "session = requests.Session()\n",
    "HEADERS = {\n",
    "    'content-type': 'application/xml',\n",
    "    'user-agent': 'mozilla/5.0 (windows nt 10.0; win64; x64) applewebkit/537.36'\n",
    "}\n",
    "\n",
    "session.headers.update(HEADERS)\n",
    "\n",
    "# **** visit main site initially to bypass incapsula ****\n",
    "response = session.get('https://www.checkbooknyc.com/', timeout=TIMEOUT)\n",
    "print(f\"main site status: {response.status_code}\")\n",
    "time.sleep(2)\n",
    "\n",
    "session.headers.update({\n",
    "    'content-type': 'application/xml',\n",
    "    'referer': 'https://www.checkbooknyc.com/',\n",
    "    'origin': 'https://www.checkbooknyc.com'\n",
    "})"
   ]
  },
  {
   "cell_type": "code",
   "execution_count": null,
   "id": "c8602086-cec3-4513-83fd-4272ca0c70f0",
   "metadata": {
    "collapsed": true,
    "jupyter": {
     "outputs_hidden": true
    }
   },
   "outputs": [],
   "source": []
  },
  {
   "cell_type": "markdown",
   "id": "5c6b2288-3cec-464f-b996-5b81697e779e",
   "metadata": {},
   "source": [
    "## Helpers"
   ]
  },
  {
   "cell_type": "code",
   "execution_count": 4,
   "id": "f499b50b-914d-4cc1-9092-3044a01a0b4b",
   "metadata": {},
   "outputs": [],
   "source": [
    "def fetch_xml(payload: str, verbose: bool = False) -> ET.Element:\n",
    "    response = session.post(API_URL, data=payload, headers=HEADERS, timeout=TIMEOUT)\n",
    "    if verbose: \n",
    "        print(response.text[:500])\n",
    "    response.raise_for_status()\n",
    "\n",
    "    if verbose:\n",
    "        xml_str = response.content.decode('utf-8')\n",
    "        print(xml_str)\n",
    "        \n",
    "    return ET.fromstring(response.content)\n",
    "\n",
    "def get_record_count(xml_root: ET.Element) -> int:\n",
    "    count_tag = xml_root.find(\".//result_records/record_count\")\n",
    "    return int(count_tag.text) if count_tag is not None else 0\n",
    "\n"
   ]
  },
  {
   "cell_type": "code",
   "execution_count": 5,
   "id": "42eda648-0e97-4926-be37-99408b91a72a",
   "metadata": {},
   "outputs": [
    {
     "data": {
      "text/plain": [
       "'25'"
      ]
     },
     "execution_count": 5,
     "metadata": {},
     "output_type": "execute_result"
    }
   ],
   "source": [
    "y = \"2025\"\n",
    "y[2:]"
   ]
  },
  {
   "cell_type": "code",
   "execution_count": null,
   "id": "cfd3e120-2817-4fdc-971a-1379830046c8",
   "metadata": {
    "collapsed": true,
    "jupyter": {
     "outputs_hidden": true
    }
   },
   "outputs": [],
   "source": []
  },
  {
   "cell_type": "markdown",
   "id": "d1e7dfd7-bb5b-422f-8f15-c090578d63b8",
   "metadata": {},
   "source": [
    "## Initial Metadata Request: Determining Pagination"
   ]
  },
  {
   "cell_type": "code",
   "execution_count": 6,
   "id": "12d40c5a-508b-4f6d-8d2e-c448254bbcc9",
   "metadata": {},
   "outputs": [],
   "source": [
    "fiscal_year = 2025"
   ]
  },
  {
   "cell_type": "code",
   "execution_count": 7,
   "id": "435e269d-bc19-454a-ba60-aa93de36f783",
   "metadata": {
    "jupyter": {
     "source_hidden": true
    }
   },
   "outputs": [],
   "source": [
    "seed_request=f\"\"\"\n",
    "<request>\n",
    "  <type_of_data>Spending</type_of_data>\n",
    "  <records_from>1</records_from>\n",
    "  <max_records>1</max_records>\n",
    "  <search_criteria>\n",
    "   <criteria>\n",
    "      <name>fiscal_year</name>\n",
    "      <type>value</type>\n",
    "      <value>{fiscal_year}</value>\n",
    "    </criteria>\n",
    "  </search_criteria>\n",
    "  <response_columns/>\n",
    "</request>\n",
    "\"\"\""
   ]
  },
  {
   "cell_type": "code",
   "execution_count": 8,
   "id": "6c7b64e9-8442-469a-abf3-5b8f55d66990",
   "metadata": {
    "scrolled": true
   },
   "outputs": [
    {
     "name": "stdout",
     "output_type": "stream",
     "text": [
      "<?xml version=\"1.0\"?>\n",
      "<response>\n",
      "  <status>\n",
      "    <result>success</result>\n",
      "  </status>\n",
      "  <request_criteria>\n",
      "    <request>\n",
      "      <type_of_data>Spending</type_of_data>\n",
      "      <records_from>1</records_from>\n",
      "      <max_records>1</max_records>\n",
      "      <search_criteria>\n",
      "        <criteria>\n",
      "          <name>fiscal_year</name>\n",
      "          <type>value</type>\n",
      "          <value>2025</value>\n",
      "        </criteria>\n",
      "      </search_criteria>\n",
      "      <response_columns/>\n",
      "    </request>\n",
      "  </request_criteria>\n",
      "  <result_records>\n",
      "\n",
      "<?xml version=\"1.0\"?>\n",
      "<response>\n",
      "  <status>\n",
      "    <result>success</result>\n",
      "  </status>\n",
      "  <request_criteria>\n",
      "    <request>\n",
      "      <type_of_data>Spending</type_of_data>\n",
      "      <records_from>1</records_from>\n",
      "      <max_records>1</max_records>\n",
      "      <search_criteria>\n",
      "        <criteria>\n",
      "          <name>fiscal_year</name>\n",
      "          <type>value</type>\n",
      "          <value>2025</value>\n",
      "        </criteria>\n",
      "      </search_criteria>\n",
      "      <response_columns/>\n",
      "    </request>\n",
      "  </request_criteria>\n",
      "  <result_records>\n",
      "    <record_count>3157155</record_count>\n",
      "    <spending_transactions>\n",
      "      <transaction>\n",
      "        <agency>Department of Education</agency>\n",
      "        <associated_prime_vendor>N/A</associated_prime_vendor>\n",
      "        <budget_code>4301</budget_code>\n",
      "        <capital_project/>\n",
      "        <contract_id/>\n",
      "        <mocs_registered>No</mocs_registered>\n",
      "        <contract_purpose/>\n",
      "        <check_amount>153402038.46</check_amount>\n",
      "        <department>GE INSTR &amp; SCH LEADERSHIP - PS</department>\n",
      "        <document_id/>\n",
      "        <expense_category>Payroll Summary</expense_category>\n",
      "        <fiscal_year>2025</fiscal_year>\n",
      "        <industry/>\n",
      "        <issue_date>2025-02-14</issue_date>\n",
      "        <mwbe_category>Individuals and Others</mwbe_category>\n",
      "        <woman_owned_business>No </woman_owned_business>\n",
      "        <emerging_business>No </emerging_business>\n",
      "        <payee_name>GE INSTR &amp; SCH LEADERSHIP - PS</payee_name>\n",
      "        <spending_category>Payroll</spending_category>\n",
      "        <sub_contract_reference_id/>\n",
      "        <sub_vendor>No</sub_vendor>\n",
      "      </transaction>\n",
      "    </spending_transactions>\n",
      "  </result_records>\n",
      "</response>\n",
      "\n"
     ]
    }
   ],
   "source": [
    "seed_root = fetch_xml(seed_request,verbose=True)"
   ]
  },
  {
   "cell_type": "code",
   "execution_count": 9,
   "id": "1049c6b6-90e1-4e41-922f-3f4223c1bcd7",
   "metadata": {},
   "outputs": [
    {
     "name": "stdout",
     "output_type": "stream",
     "text": [
      "\n",
      "Seed Request Results for FY 2025\n",
      "=========================================\n",
      "Total retrievable records: 3157155\n",
      "Batches needed: 158\n",
      "\n"
     ]
    }
   ],
   "source": [
    "retrievable_records = get_record_count(seed_root)\n",
    "batches_needed = math.ceil(retrievable_records / BATCH_SIZE)\n",
    "\n",
    "print(f\"\"\"\n",
    "Seed Request Results for FY {fiscal_year}\n",
    "=========================================\n",
    "Total retrievable records: {retrievable_records}\n",
    "Batches needed: {batches_needed}\n",
    "\"\"\")"
   ]
  },
  {
   "cell_type": "code",
   "execution_count": null,
   "id": "9acd1d33-adcc-4b4d-8bf0-3461578ea8b2",
   "metadata": {
    "collapsed": true,
    "jupyter": {
     "outputs_hidden": true
    }
   },
   "outputs": [],
   "source": []
  },
  {
   "cell_type": "markdown",
   "id": "87c9346f-6176-4075-b5cd-4c39c2b3de8a",
   "metadata": {},
   "source": [
    "## Start Paginated Fetch-to-Appends"
   ]
  },
  {
   "cell_type": "code",
   "execution_count": 10,
   "id": "232698e8-c022-49a0-b92c-443842784a3e",
   "metadata": {
    "scrolled": true
   },
   "outputs": [],
   "source": [
    "# records_from = 1\n",
    "# fiscal_year = fiscal_year\n",
    "# retrievable_records = retrievable_records\n",
    "# max_records = min(retrievable_records, BATCH_SIZE) # otherwise response is just about exceeding request limit\n",
    "\n",
    "# xml_batch_request=f\"\"\"\n",
    "# <request>\n",
    "#   <type_of_data>Spending</type_of_data>\n",
    "#   <records_from>{records_from}</records_from>\n",
    "#   <max_records>{max_records}</max_records>\n",
    "#   <search_criteria>\n",
    "#    <criteria>\n",
    "#       <name>fiscal_year</name>\n",
    "#       <type>value</type>\n",
    "#       <value>{fiscal_year}</value>\n",
    "#     </criteria>\n",
    "#   </search_criteria>\n",
    "#   <response_columns>\n",
    "#     <column>agency</column>\n",
    "#     <column>spending_category</column>\n",
    "#     <column>document_id</column>\n",
    "#     <column>payee_name</column>\n",
    "#     <column>check_amount</column>\n",
    "#     <column>department</column>\n",
    "#     <column>sub_vendor</column>\n",
    "#     <column>sub_contract_reference_id</column>\n",
    "#     <column>fiscal_year</column>\n",
    "#     <column>emerging_business</column>\n",
    "#     <column>mocs_registered</column>\n",
    "#     <column>expense_category</column>\n",
    "#     <column>contract_id</column>\n",
    "#     <column>contract_purpose</column>\n",
    "#     <column>issue_date</column>\n",
    "#     <column>capital_project</column>\n",
    "#     <column>mwbe_category</column>\n",
    "#     <column>associated_prime_vendor</column>\n",
    "#     <column>industry</column>\n",
    "#     <column>woman_owned_business</column>\n",
    "#     <column>budget_code</column>\n",
    "#   </response_columns>\n",
    "# </request>\n",
    "# \"\"\"\n",
    "\n",
    "# print(xml_batch_request)"
   ]
  },
  {
   "cell_type": "code",
   "execution_count": null,
   "id": "71a3c520-34c7-4bfc-ae3e-38bf3f263b52",
   "metadata": {
    "collapsed": true,
    "jupyter": {
     "outputs_hidden": true
    }
   },
   "outputs": [],
   "source": []
  },
  {
   "cell_type": "markdown",
   "id": "ba4291ee-f61d-4650-baea-a7781ede001d",
   "metadata": {},
   "source": [
    "## Fetch and Save FY Spending"
   ]
  },
  {
   "cell_type": "markdown",
   "id": "f3e78ca5-f430-4ead-a8df-89f654e866d2",
   "metadata": {},
   "source": [
    "### Function and Helpers"
   ]
  },
  {
   "cell_type": "code",
   "execution_count": 11,
   "id": "d17c1e5a-f6c3-4306-883a-23798ba1a1b5",
   "metadata": {},
   "outputs": [],
   "source": [
    "def save_parquet_simple(df: pd.DataFrame, out_file: Path) -> int:\n",
    "    \"\"\"simple save without deduplication for testing\"\"\"\n",
    "    df.to_parquet(out_file, engine=\"pyarrow\", index=False)\n",
    "    return len(df)"
   ]
  },
  {
   "cell_type": "code",
   "execution_count": 12,
   "id": "0d7ca194-0a1d-4d90-b13b-bfd75b7d456a",
   "metadata": {},
   "outputs": [],
   "source": [
    "xml_batch_request = \"\"\"<request>\n",
    "  <type_of_data>Spending</type_of_data>\n",
    "  <records_from>{records_from}</records_from>\n",
    "  <max_records>{max_records}</max_records>\n",
    "  <search_criteria>\n",
    "   <criteria>\n",
    "      <name>fiscal_year</name>\n",
    "      <type>value</type>\n",
    "      <value>{fiscal_year}</value>\n",
    "    </criteria>\n",
    "  </search_criteria>\n",
    "  <response_columns>\n",
    "    <column>agency</column>\n",
    "    <column>spending_category</column>\n",
    "    <column>document_id</column>\n",
    "    <column>payee_name</column>\n",
    "    <column>check_amount</column>\n",
    "    <column>department</column>\n",
    "    <column>sub_vendor</column>\n",
    "    <column>sub_contract_reference_id</column>\n",
    "    <column>fiscal_year</column>\n",
    "    <column>emerging_business</column>\n",
    "    <column>mocs_registered</column>\n",
    "    <column>expense_category</column>\n",
    "    <column>contract_id</column>\n",
    "    <column>contract_purpose</column>\n",
    "    <column>issue_date</column>\n",
    "    <column>capital_project</column>\n",
    "    <column>mwbe_category</column>\n",
    "    <column>associated_prime_vendor</column>\n",
    "    <column>industry</column>\n",
    "    <column>woman_owned_business</column>\n",
    "    <column>budget_code</column>\n",
    "  </response_columns>\n",
    "</request>\"\"\""
   ]
  },
  {
   "cell_type": "code",
   "execution_count": 13,
   "id": "57d611a9-f00f-4f6f-9ff0-f64896bc1f37",
   "metadata": {},
   "outputs": [],
   "source": [
    "# add this detailed duplicate analysis\n",
    "def analyze_false_duplicates(df: pd.DataFrame):\n",
    "    \"\"\"debug why pandas thinks different rows are duplicates\"\"\"\n",
    "    \n",
    "    # get \"duplicate\" rows\n",
    "    dup_mask = df.duplicated(keep=False)\n",
    "    dup_rows = df[dup_mask]\n",
    "    \n",
    "    if len(dup_rows) < 2:\n",
    "        print(\"no duplicates to analyze\")\n",
    "        return\n",
    "    \n",
    "    print(f\"analyzing {len(dup_rows)} 'duplicate' rows\")\n",
    "    \n",
    "    # compare first two rows that pandas considers duplicates\n",
    "    row1 = dup_rows.iloc[0].copy()\n",
    "    row2 = dup_rows.iloc[1].copy()\n",
    "    \n",
    "    print(f\"\\ncomparing rows {dup_rows.index[0]} vs {dup_rows.index[1]}:\")\n",
    "    \n",
    "    all_identical = True\n",
    "    for col in df.columns:\n",
    "        val1 = row1[col]\n",
    "        val2 = row2[col]\n",
    "        \n",
    "        # handle different data types and nan values\n",
    "        if pd.isna(val1) and pd.isna(val2):\n",
    "            status = \"both nan\"\n",
    "        elif pd.isna(val1) or pd.isna(val2):\n",
    "            status = \"one nan, one not\"\n",
    "            all_identical = False\n",
    "        elif str(val1) == str(val2):\n",
    "            status = \"identical\"\n",
    "        else:\n",
    "            status = f\"DIFFERENT: '{val1}' vs '{val2}'\"\n",
    "            all_identical = False\n",
    "        \n",
    "        print(f\"  {col}: {status}\")\n",
    "    \n",
    "    print(f\"\\nall columns identical: {all_identical}\")\n",
    "    \n",
    "    # check if issue is with data types or hidden characters\n",
    "    if not all_identical:\n",
    "        print(\"\\nchecking for hidden issues:\")\n",
    "        for col in ['check_amount', 'issue_date', 'document_id']:\n",
    "            if col in df.columns:\n",
    "                val1, val2 = row1[col], row2[col]\n",
    "                print(f\"{col}:\")\n",
    "                print(f\"  val1: '{val1}' (type: {type(val1)}, len: {len(str(val1))})\")\n",
    "                print(f\"  val2: '{val2}' (type: {type(val2)}, len: {len(str(val2))})\")\n",
    "                print(f\"  equal: {val1 == val2}\")"
   ]
  },
  {
   "cell_type": "code",
   "execution_count": 14,
   "id": "f1ae6c04-b9b8-45e1-ba34-2ffdce9d8341",
   "metadata": {},
   "outputs": [],
   "source": [
    "tqdm._instances.clear()\n",
    "\n",
    "def save_parquet_append(df: pd.DataFrame, out_file: Path) -> int:\n",
    "    out_file = Path(out_file)\n",
    "    if out_file.exists():\n",
    "        try:\n",
    "            pa.unregister_extension_type(\"pandas.period\")\n",
    "        except KeyError:\n",
    "            pass\n",
    "        existing_df = pd.read_parquet(out_file, engine=\"pyarrow\")\n",
    "        original_count = len(existing_df)\n",
    "        combined = pd.concat([existing_df, df], ignore_index=True)\n",
    "        deduped = combined.drop_duplicates()\n",
    "        \n",
    "        # fix: calculate actual new records added\n",
    "        final_count = len(deduped)\n",
    "        new_records_attempted = len(df)\n",
    "        \n",
    "        # net change can be negative, but \"added\" should be non-negative\n",
    "        net_change = final_count - original_count\n",
    "        actually_added = max(0, net_change)  # never negative\n",
    "        \n",
    "        deduped.to_parquet(out_file, engine=\"pyarrow\", index=False)\n",
    "        return actually_added\n",
    "    else:\n",
    "        df.to_parquet(out_file, engine=\"pyarrow\", index=False)\n",
    "        return len(df)\n",
    "\n",
    "        \n",
    "def parse_transactions(xml_root: ET.Element) -> pd.DataFrame:\n",
    "    \"\"\"convert <transaction> elements into dataframe rows\"\"\"\n",
    "    records = []\n",
    "    for txn in xml_root.findall(\".//transaction\"):\n",
    "        row = {child.tag: (child.text or \"\").strip() for child in txn}\n",
    "        records.append(row)\n",
    "    return pd.DataFrame(records)\n",
    "\n",
    "def download_spending_by_FY(xml_batch_request: str,\n",
    "                            year: int,\n",
    "                            retrievable_records: int,\n",
    "                            records_to_retrieve: int,\n",
    "                            verbose: bool=True):\n",
    "    total_to_fetch = min(retrievable_records, records_to_retrieve)\n",
    "    \n",
    "    if verbose:\n",
    "        print(f\"FY{year} download: available={retrievable_records:,}, \"\n",
    "              f\"requesting={records_to_retrieve:,}\")\n",
    "    \n",
    "    # create progress bar right before loop starts\n",
    "    total_saved = 0\n",
    "    total_dropped = 0\n",
    "    records_processed = 0\n",
    "    offset = 1\n",
    "    \n",
    "    # calculate batches based on actual request\n",
    "    total_batches = math.ceil(total_to_fetch / BATCH_SIZE)\n",
    "    out_file = OUTPUT_DIR / f\"spending_{year}.parquet\"\n",
    "    \n",
    "    with tqdm(total=total_to_fetch, desc=f\"FY{year}\", unit=\"records\", ncols=80) as pbar:\n",
    "        for batch_num in range(1, total_batches + 1):\n",
    "            remaining = total_to_fetch - records_processed\n",
    "            if remaining <= 0:\n",
    "                break\n",
    "                \n",
    "            records_this_batch = min(BATCH_SIZE, remaining)\n",
    "            \n",
    "            # make request\n",
    "            \n",
    "            xml_body = xml_batch_request.format(\n",
    "                records_from=offset,\n",
    "                max_records=records_this_batch,\n",
    "                fiscal_year=year \n",
    "            )\n",
    "\n",
    "            response = session.post(API_URL, data=xml_body, timeout=TIMEOUT)\n",
    "\n",
    "           # check response\n",
    "            if response.text.strip().startswith('<html'):\n",
    "                tqdm.write(f\"batch {batch_num}: blocked by incapsula\")\n",
    "                break\n",
    "\n",
    "\n",
    "            # add debug:\n",
    "            print(f\"xml sent: {xml_body}\")\n",
    "            print(f\"response preview: {response.text[:500]}\")\n",
    "            \n",
    "            # also check if api returned success but no transactions\n",
    "            root = ET.fromstring(response.text.strip())\n",
    "            status = root.find('.//status/result')\n",
    "            record_count = root.find('.//record_count')\n",
    "            print(f\"api status: {status.text if status is not None else 'missing'}\")\n",
    "            print(f\"record count: {record_count.text if record_count is not None else 'missing'}\")\n",
    "                        \n",
    "             \n",
    "            try:\n",
    "                root = ET.fromstring(response.text.strip())\n",
    "                df = parse_transactions(root)\n",
    "\n",
    "                # add this debug block here:\n",
    "                print(\"checking for patterns in data:\")\n",
    "                print(f\"unique document_ids: {df['document_id'].nunique()}\")\n",
    "                print(f\"unique payee_names: {df['payee_name'].nunique()}\")\n",
    "                print(f\"total rows: {len(df)}\")\n",
    "                dupes_in_batch = df.duplicated().sum()\n",
    "                print(f\"duplicates within single batch: {dupes_in_batch}\")\n",
    "                print(\"first 3 rows:\")\n",
    "                print(df.head(3))\n",
    "\n",
    "\n",
    "                # replace the duplicate checking code with this more detailed version:\n",
    "                if dupes_in_batch > 0:\n",
    "                    print(f\"\\nfound {dupes_in_batch} duplicates within batch\")\n",
    "                    analyze_false_duplicates(df)\n",
    "                    \n",
    "                    # get first duplicate pair to examine closely\n",
    "                    duplicate_mask = df.duplicated(keep=False)\n",
    "                    duplicate_rows = df[duplicate_mask]\n",
    "                    \n",
    "                    if len(duplicate_rows) >= 2:\n",
    "                        # compare first two \"duplicate\" rows column by column\n",
    "                        row1 = duplicate_rows.iloc[0]\n",
    "                        row2 = duplicate_rows.iloc[1]\n",
    "                        \n",
    "                        print(\"comparing first two 'duplicate' rows:\")\n",
    "                        print(\"row 1 index:\", duplicate_rows.index[0])\n",
    "                        print(\"row 2 index:\", duplicate_rows.index[1])\n",
    "                        \n",
    "                        differences = []\n",
    "                        for col in df.columns:\n",
    "                            val1 = row1[col]\n",
    "                            val2 = row2[col]\n",
    "                            \n",
    "                            if pd.isna(val1) and pd.isna(val2):\n",
    "                                continue  # both nan, truly equal\n",
    "                            elif val1 != val2:\n",
    "                                differences.append(f\"{col}: '{val1}' vs '{val2}'\")\n",
    "                        \n",
    "                        if differences:\n",
    "                            print(f\"found {len(differences)} differences:\")\n",
    "                            for diff in differences[:10]:  # show first 10 differences\n",
    "                                print(f\"  {diff}\")\n",
    "                        else:\n",
    "                            print(\"no differences found - rows are truly identical\")\n",
    "                            \n",
    "                        # check data types\n",
    "                        print(\"data types check:\")\n",
    "                        for col in df.columns[:5]:\n",
    "                            print(f\"  {col}: {df[col].dtype}\")\n",
    "\n",
    "                # verify expected len\n",
    "                if len(df) != records_this_batch:\n",
    "                    tqdm.write(f\"warning: requested {records_this_batch}, got {len(df)}\")\n",
    "                \n",
    "            except ET.ParseError:\n",
    "                tqdm.write(f\"batch {batch_num}: xml parse error\")\n",
    "                break\n",
    "            \n",
    "            # save and track\n",
    "            \n",
    "            # TODO: UNDO TEMP FOR DEBUG: replace with debug version\n",
    "            # added = save_parquet_append(df, out_file)\n",
    "            added = save_parquet_append_debug(df, out_file)\n",
    "\n",
    "            dropped = len(df) - added\n",
    "            \n",
    "            total_saved += added\n",
    "            total_dropped += dropped\n",
    "            records_processed += len(df)\n",
    "            \n",
    "            # update progress by records intended to process (regardless of duplicate; just whether 'seen')\n",
    "            pbar.update(records_this_batch)\n",
    "            \n",
    "            if verbose:\n",
    "                tqdm.write(f\"batch {batch_num}: got {len(df)}, saved {added}, dropped {dropped}\")\n",
    "            \n",
    "            offset += records_this_batch\n",
    "            time.sleep(1.1)\n",
    "    \n",
    "    if verbose:\n",
    "        print(f\"complete: {total_saved:,} saved, {total_dropped:,} dropped\")"
   ]
  },
  {
   "cell_type": "code",
   "execution_count": 15,
   "id": "78344b66-a986-413e-b71b-26d27329456d",
   "metadata": {},
   "outputs": [],
   "source": [
    "def save_parquet_append_debug(df: pd.DataFrame, out_file: Path) -> int:\n",
    "    out_file = Path(out_file)\n",
    "    \n",
    "    if out_file.exists():\n",
    "        existing_df = pd.read_parquet(out_file, engine=\"pyarrow\")\n",
    "        combined = pd.concat([existing_df, df], ignore_index=True)\n",
    "        \n",
    "        # identify duplicates before removing them\n",
    "        duplicate_mask = combined.duplicated(keep='first')\n",
    "        dropped_rows = combined[duplicate_mask]\n",
    "        \n",
    "        if len(dropped_rows) > 0:\n",
    "            # save duplicates to inspection file\n",
    "            duplicate_file = out_file.parent / f\"duplicates_{out_file.stem}.parquet\"\n",
    "            \n",
    "            if duplicate_file.exists():\n",
    "                existing_dupes = pd.read_parquet(duplicate_file)\n",
    "                all_dupes = pd.concat([existing_dupes, dropped_rows], ignore_index=True)\n",
    "            else:\n",
    "                all_dupes = dropped_rows\n",
    "                \n",
    "            all_dupes.to_parquet(duplicate_file, engine=\"pyarrow\", index=False)\n",
    "            print(f\"saved {len(dropped_rows)} duplicates to {duplicate_file}\")\n",
    "            \n",
    "            # also save first few for quick inspection\n",
    "            sample_file = out_file.parent / f\"duplicate_sample_{out_file.stem}.csv\"\n",
    "            dropped_rows.head(10).to_csv(sample_file, index=False)\n",
    "            print(f\"sample duplicates saved to {sample_file}\")\n",
    "        \n",
    "        # proceed with normal deduplication\n",
    "        deduped = combined.drop_duplicates()\n",
    "        deduped.to_parquet(out_file, engine=\"pyarrow\", index=False)\n",
    "        return max(0, len(deduped) - len(existing_df))\n",
    "    else:\n",
    "        df.to_parquet(out_file, engine=\"pyarrow\", index=False)\n",
    "        return len(df)"
   ]
  },
  {
   "cell_type": "markdown",
   "id": "0f9e02c6-74eb-4435-b156-17bd5194ebf1",
   "metadata": {},
   "source": [
    "### Function Calls"
   ]
  },
  {
   "cell_type": "code",
   "execution_count": 16,
   "id": "ab27d496-a3f2-4339-8f18-5434a7153242",
   "metadata": {
    "scrolled": true
   },
   "outputs": [
    {
     "name": "stdout",
     "output_type": "stream",
     "text": [
      "FY2025 download: available=3,157,155, requesting=20,000\n"
     ]
    },
    {
     "name": "stderr",
     "output_type": "stream",
     "text": [
      "FY2025:   0%|                                    | 0/20000 [00:00<?, ?records/s]"
     ]
    },
    {
     "name": "stdout",
     "output_type": "stream",
     "text": [
      "xml sent: <request>\n",
      "  <type_of_data>Spending</type_of_data>\n",
      "  <records_from>1</records_from>\n",
      "  <max_records>20000</max_records>\n",
      "  <search_criteria>\n",
      "   <criteria>\n",
      "      <name>fiscal_year</name>\n",
      "      <type>value</type>\n",
      "      <value>2025</value>\n",
      "    </criteria>\n",
      "  </search_criteria>\n",
      "  <response_columns>\n",
      "    <column>agency</column>\n",
      "    <column>spending_category</column>\n",
      "    <column>document_id</column>\n",
      "    <column>payee_name</column>\n",
      "    <column>check_amount</column>\n",
      "    <column>department</column>\n",
      "    <column>sub_vendor</column>\n",
      "    <column>sub_contract_reference_id</column>\n",
      "    <column>fiscal_year</column>\n",
      "    <column>emerging_business</column>\n",
      "    <column>mocs_registered</column>\n",
      "    <column>expense_category</column>\n",
      "    <column>contract_id</column>\n",
      "    <column>contract_purpose</column>\n",
      "    <column>issue_date</column>\n",
      "    <column>capital_project</column>\n",
      "    <column>mwbe_category</column>\n",
      "    <column>associated_prime_vendor</column>\n",
      "    <column>industry</column>\n",
      "    <column>woman_owned_business</column>\n",
      "    <column>budget_code</column>\n",
      "  </response_columns>\n",
      "</request>\n",
      "response preview: <?xml version=\"1.0\"?>\n",
      "<response>\n",
      "  <status>\n",
      "    <result>success</result>\n",
      "  </status>\n",
      "  <request_criteria>\n",
      "    <request>\n",
      "      <type_of_data>Spending</type_of_data>\n",
      "      <records_from>1</records_from>\n",
      "      <max_records>20000</max_records>\n",
      "      <search_criteria>\n",
      "        <criteria>\n",
      "          <name>fiscal_year</name>\n",
      "          <type>value</type>\n",
      "          <value>2025</value>\n",
      "        </criteria>\n",
      "      </search_criteria>\n",
      "      <response_columns>\n",
      "        <column>agency</column>\n",
      "        <column>spend\n",
      "api status: success\n",
      "record count: 3157155\n",
      "checking for patterns in data:\n",
      "unique document_ids: 10068\n",
      "unique payee_names: 1598\n",
      "total rows: 20000\n",
      "duplicates within single batch: 185\n",
      "first 3 rows:\n",
      "                    agency associated_prime_vendor budget_code  \\\n",
      "0  Department of Education                     N/A        4301   \n",
      "1  Department of Education                     N/A        4301   \n",
      "2  Department of Education                     N/A        4301   \n",
      "\n",
      "  capital_project contract_id mocs_registered contract_purpose  check_amount  \\\n",
      "0                                          No                   153402038.46   \n",
      "1                                          No                   151528517.41   \n",
      "2                                          No                   151278256.06   \n",
      "\n",
      "                       department document_id  ... fiscal_year industry  \\\n",
      "0  GE INSTR & SCH LEADERSHIP - PS              ...        2025            \n",
      "1  GE INSTR & SCH LEADERSHIP - PS              ...        2025            \n",
      "2  GE INSTR & SCH LEADERSHIP - PS              ...        2025            \n",
      "\n",
      "   issue_date           mwbe_category woman_owned_business emerging_business  \\\n",
      "0  2025-02-14  Individuals and Others                   No                No   \n",
      "1  2025-03-14  Individuals and Others                   No                No   \n",
      "2  2025-04-30  Individuals and Others                   No                No   \n",
      "\n",
      "                       payee_name spending_category sub_contract_reference_id  \\\n",
      "0  GE INSTR & SCH LEADERSHIP - PS           Payroll                             \n",
      "1  GE INSTR & SCH LEADERSHIP - PS           Payroll                             \n",
      "2  GE INSTR & SCH LEADERSHIP - PS           Payroll                             \n",
      "\n",
      "  sub_vendor  \n",
      "0         No  \n",
      "1         No  \n",
      "2         No  \n",
      "\n",
      "[3 rows x 21 columns]\n",
      "\n",
      "found 185 duplicates within batch\n",
      "analyzing 270 'duplicate' rows\n",
      "\n",
      "comparing rows 115 vs 116:\n",
      "  agency: identical\n",
      "  associated_prime_vendor: identical\n",
      "  budget_code: identical\n",
      "  capital_project: identical\n",
      "  contract_id: identical\n",
      "  mocs_registered: identical\n",
      "  contract_purpose: identical\n",
      "  check_amount: identical\n",
      "  department: identical\n",
      "  document_id: identical\n",
      "  expense_category: identical\n",
      "  fiscal_year: identical\n",
      "  industry: identical\n",
      "  issue_date: identical\n",
      "  mwbe_category: identical\n",
      "  woman_owned_business: identical\n",
      "  emerging_business: identical\n",
      "  payee_name: identical\n",
      "  spending_category: identical\n",
      "  sub_contract_reference_id: identical\n",
      "  sub_vendor: identical\n",
      "\n",
      "all columns identical: True\n",
      "comparing first two 'duplicate' rows:\n",
      "row 1 index: 115\n",
      "row 2 index: 116\n",
      "no differences found - rows are truly identical\n",
      "data types check:\n",
      "  agency: object\n",
      "  associated_prime_vendor: object\n",
      "  budget_code: object\n",
      "  capital_project: object\n",
      "  contract_id: object\n"
     ]
    },
    {
     "name": "stderr",
     "output_type": "stream",
     "text": [
      "FY2025: 100%|██████████████████████| 20000/20000 [00:06<00:00, 2858.66records/s]"
     ]
    },
    {
     "name": "stdout",
     "output_type": "stream",
     "text": [
      "saved 20185 duplicates to checkbook_data/duplicates_spending_2025.parquet\n",
      "sample duplicates saved to checkbook_data/duplicate_sample_spending_2025.csv\n",
      "batch 1: got 20000, saved 0, dropped 20000\n"
     ]
    },
    {
     "name": "stderr",
     "output_type": "stream",
     "text": [
      "FY2025: 100%|██████████████████████| 20000/20000 [00:08<00:00, 2468.18records/s]"
     ]
    },
    {
     "name": "stdout",
     "output_type": "stream",
     "text": [
      "complete: 0 saved, 20,000 dropped\n"
     ]
    },
    {
     "name": "stderr",
     "output_type": "stream",
     "text": [
      "\n"
     ]
    }
   ],
   "source": [
    "retrievable_records\n",
    "# records_to_retrieve = 1\n",
    "records_to_retrieve = 20000\n",
    "\n",
    "download_spending_by_FY(\n",
    "    xml_batch_request, \n",
    "    year=fiscal_year, \n",
    "    retrievable_records=retrievable_records, \n",
    "    records_to_retrieve=records_to_retrieve,\n",
    ")"
   ]
  },
  {
   "cell_type": "code",
   "execution_count": null,
   "id": "6eec9957-51fc-493f-ad13-c878a43eaef6",
   "metadata": {
    "collapsed": true,
    "jupyter": {
     "outputs_hidden": true
    }
   },
   "outputs": [],
   "source": []
  },
  {
   "cell_type": "markdown",
   "id": "fa6af038-d164-4d9e-8aa3-c467fd4b3697",
   "metadata": {},
   "source": [
    "## Peek in Parquet File"
   ]
  },
  {
   "cell_type": "code",
   "execution_count": 17,
   "id": "7ad0c0ea-ecca-4f5b-8c9a-f0c9c6cc4a25",
   "metadata": {},
   "outputs": [
    {
     "name": "stdout",
     "output_type": "stream",
     "text": [
      "         agency associated_prime_vendor                          budget_code  \\\n",
      "0  Debt Service                     N/A  4001 (BUDGET STABILIZATION ACCOUNT)   \n",
      "1  Debt Service                     N/A  4001 (BUDGET STABILIZATION ACCOUNT)   \n",
      "2  Debt Service                     N/A  4001 (BUDGET STABILIZATION ACCOUNT)   \n",
      "3  Debt Service                     N/A  4001 (BUDGET STABILIZATION ACCOUNT)   \n",
      "4  Debt Service                     N/A  4001 (BUDGET STABILIZATION ACCOUNT)   \n",
      "\n",
      "  capital_project contract_id mocs_registered contract_purpose check_amount  \\\n",
      "0                                          No                   99000000.00   \n",
      "1                                          No                   99000000.00   \n",
      "2                                          No                   99000000.00   \n",
      "3                                          No                   99000000.00   \n",
      "4                                          No                   99000000.00   \n",
      "\n",
      "                     department            document_id  ... fiscal_year  \\\n",
      "0  BUDGET STABILIZATION ACCOUNT  2025FSPP009-1-015-MD1  ...        2025   \n",
      "1  BUDGET STABILIZATION ACCOUNT  2025FSPP008-1-015-MD1  ...        2025   \n",
      "2  BUDGET STABILIZATION ACCOUNT  2025FSPP008-1-015-MD1  ...        2025   \n",
      "3  BUDGET STABILIZATION ACCOUNT  2025FSPP008-1-015-MD1  ...        2025   \n",
      "4  BUDGET STABILIZATION ACCOUNT  2025FSPP009-1-015-MD1  ...        2025   \n",
      "\n",
      "  industry  issue_date           mwbe_category woman_owned_business  \\\n",
      "0           2025-06-30  Individuals and Others                   No   \n",
      "1           2025-06-30  Individuals and Others                   No   \n",
      "2           2025-06-30  Individuals and Others                   No   \n",
      "3           2025-06-30  Individuals and Others                   No   \n",
      "4           2025-06-30  Individuals and Others                   No   \n",
      "\n",
      "  emerging_business                                    payee_name  \\\n",
      "0                No  NEW YORK CITY TRANSITIONAL FINANCE AUTHORITY   \n",
      "1                No  NEW YORK CITY TRANSITIONAL FINANCE AUTHORITY   \n",
      "2                No  NEW YORK CITY TRANSITIONAL FINANCE AUTHORITY   \n",
      "3                No  NEW YORK CITY TRANSITIONAL FINANCE AUTHORITY   \n",
      "4                No  NEW YORK CITY TRANSITIONAL FINANCE AUTHORITY   \n",
      "\n",
      "  spending_category sub_contract_reference_id sub_vendor  \n",
      "0            Others                                   No  \n",
      "1            Others                                   No  \n",
      "2            Others                                   No  \n",
      "3            Others                                   No  \n",
      "4            Others                                   No  \n",
      "\n",
      "[5 rows x 21 columns]\n",
      "<class 'pandas.core.frame.DataFrame'>\n",
      "RangeIndex: 20185 entries, 0 to 20184\n",
      "Data columns (total 21 columns):\n",
      " #   Column                     Non-Null Count  Dtype \n",
      "---  ------                     --------------  ----- \n",
      " 0   agency                     20185 non-null  object\n",
      " 1   associated_prime_vendor    20185 non-null  object\n",
      " 2   budget_code                20185 non-null  object\n",
      " 3   capital_project            20185 non-null  object\n",
      " 4   contract_id                20185 non-null  object\n",
      " 5   mocs_registered            20185 non-null  object\n",
      " 6   contract_purpose           20185 non-null  object\n",
      " 7   check_amount               20185 non-null  object\n",
      " 8   department                 20185 non-null  object\n",
      " 9   document_id                20185 non-null  object\n",
      " 10  expense_category           20185 non-null  object\n",
      " 11  fiscal_year                20185 non-null  object\n",
      " 12  industry                   20185 non-null  object\n",
      " 13  issue_date                 20185 non-null  object\n",
      " 14  mwbe_category              20185 non-null  object\n",
      " 15  woman_owned_business       20185 non-null  object\n",
      " 16  emerging_business          20185 non-null  object\n",
      " 17  payee_name                 20185 non-null  object\n",
      " 18  spending_category          20185 non-null  object\n",
      " 19  sub_contract_reference_id  20185 non-null  object\n",
      " 20  sub_vendor                 20185 non-null  object\n",
      "dtypes: object(21)\n",
      "memory usage: 3.2+ MB\n",
      "None\n",
      "Index(['agency', 'associated_prime_vendor', 'budget_code', 'capital_project',\n",
      "       'contract_id', 'mocs_registered', 'contract_purpose', 'check_amount',\n",
      "       'department', 'document_id', 'expense_category', 'fiscal_year',\n",
      "       'industry', 'issue_date', 'mwbe_category', 'woman_owned_business',\n",
      "       'emerging_business', 'payee_name', 'spending_category',\n",
      "       'sub_contract_reference_id', 'sub_vendor'],\n",
      "      dtype='object')\n"
     ]
    }
   ],
   "source": [
    "# file_path = \"checkbook_data/spending_2025.parquet\"\n",
    "file_path = \"checkbook_data/duplicates_spending_2025.parquet\"\n",
    "\n",
    "\n",
    "# read the Parquet file into a DataFrame\n",
    "df = pd.read_parquet(file_path, engine=\"pyarrow\") \n",
    "\n",
    "# look at the first few rows\n",
    "print(df.head())\n",
    "\n",
    "# see general info\n",
    "print(df.info())\n",
    "\n",
    "# get column names\n",
    "print(df.columns)"
   ]
  },
  {
   "cell_type": "code",
   "execution_count": 18,
   "id": "4fbdc8de-49f9-4119-87a9-d474dd33810e",
   "metadata": {},
   "outputs": [],
   "source": [
    "def save_parquet_append_debug(df: pd.DataFrame, out_file: Path) -> int:\n",
    "    out_file = Path(out_file)\n",
    "    print(f\"input df shape: {df.shape}\")\n",
    "    \n",
    "    if out_file.exists():\n",
    "        existing_df = pd.read_parquet(out_file, engine=\"pyarrow\")\n",
    "        print(f\"existing file shape: {existing_df.shape}\")\n",
    "        \n",
    "        # check for duplicates before combining\n",
    "        input_dupes = df.duplicated().sum()\n",
    "        print(f\"duplicates within input df: {input_dupes}\")\n",
    "        \n",
    "        combined = pd.concat([existing_df, df], ignore_index=True)\n",
    "        print(f\"combined shape: {combined.shape}\")\n",
    "        \n",
    "        # identify what gets dropped\n",
    "        before_dedup = len(combined)\n",
    "        deduped = combined.drop_duplicates()\n",
    "        after_dedup = len(deduped)\n",
    "        dropped_count = before_dedup - after_dedup\n",
    "        \n",
    "        print(f\"dropped in deduplication: {dropped_count}\")\n",
    "        \n",
    "        if dropped_count > 0:\n",
    "            # find the duplicate rows\n",
    "            duplicated_mask = combined.duplicated(keep='first')\n",
    "            dropped_rows = combined[duplicated_mask]\n",
    "            \n",
    "            print(f\"sample of dropped rows:\")\n",
    "            print(dropped_rows.head())\n",
    "            \n",
    "            # check which columns have the most duplicates\n",
    "            for col in df.columns[:5]:  # check first 5 columns\n",
    "                unique_vals = dropped_rows[col].nunique()\n",
    "                print(f\"column {col}: {unique_vals} unique values in dropped rows\")\n",
    "        \n",
    "        deduped.to_parquet(out_file, engine=\"pyarrow\", index=False)\n",
    "        return max(0, after_dedup - len(existing_df))\n",
    "    else:\n",
    "        df.to_parquet(out_file, engine=\"pyarrow\", index=False)\n",
    "        return len(df)"
   ]
  },
  {
   "cell_type": "code",
   "execution_count": 19,
   "id": "9ded62e5-593c-48a9-b8bb-45f4d0148e9e",
   "metadata": {},
   "outputs": [
    {
     "name": "stdout",
     "output_type": "stream",
     "text": [
      "file exists: 19815 records\n",
      "xml files: 6\n"
     ]
    }
   ],
   "source": [
    "# check what actually got saved\n",
    "out_file = OUTPUT_DIR / f\"spending_{fiscal_year}.parquet\"\n",
    "if out_file.exists():\n",
    "    df_check = pd.read_parquet(out_file)\n",
    "    print(f\"file exists: {len(df_check)} records\")\n",
    "else:\n",
    "    print(\"no file created\")\n",
    "    \n",
    "# check if xml was saved\n",
    "xml_files = list(OUTPUT_DIR.glob(\"raw_FY*.xml\"))\n",
    "print(f\"xml files: {len(xml_files)}\")"
   ]
  },
  {
   "cell_type": "code",
   "execution_count": null,
   "id": "3ed6977e-ebbc-489a-b500-df5ffe521a78",
   "metadata": {
    "collapsed": true,
    "jupyter": {
     "outputs_hidden": true
    }
   },
   "outputs": [],
   "source": []
  },
  {
   "cell_type": "code",
   "execution_count": null,
   "id": "689b8155-c2fe-4463-9011-31990916121d",
   "metadata": {
    "collapsed": true,
    "jupyter": {
     "outputs_hidden": true
    }
   },
   "outputs": [],
   "source": []
  },
  {
   "cell_type": "markdown",
   "id": "7b12d14a-449d-47ef-9460-6273f71aa348",
   "metadata": {},
   "source": [
    "###  API Notes"
   ]
  },
  {
   "cell_type": "markdown",
   "id": "9f001908-0e6d-4c82-aa7a-2da13f9a25f2",
   "metadata": {},
   "source": [
    "https://www.checkbooknyc.com/spending-api\n",
    "\n",
    "- retrieval limit: 20K records per call\n",
    "- FY25: 3.2M transactions \n",
    "- to retrieve all: stagger `records_from` "
   ]
  },
  {
   "cell_type": "markdown",
   "id": "c1d8a7ad-4e43-45a8-80ca-ffc2455ab0a8",
   "metadata": {},
   "source": [
    "3,157,063 transactions <- as of 8/22 from data feeds https://www.checkbooknyc.com/data-feeds "
   ]
  },
  {
   "cell_type": "markdown",
   "id": "a96b1500-e99b-4093-a91e-7092005047d2",
   "metadata": {},
   "source": [
    "##### XML request:\n",
    "- global params: `type_of_data`, `records_from`, `max_records`\n",
    "- filters: put in `<search_criteria>`\n",
    "- requested columns: put in `<response_columns>`"
   ]
  },
  {
   "cell_type": "markdown",
   "id": "206d0c87-339a-4335-bb48-3f9b75bb9a82",
   "metadata": {},
   "source": [
    "##### XML response: \n",
    "- `<search_criteria>`: echoes request xml\n",
    "- `<result_records>`: current result batch based on `records_from` and `max_records`\n",
    "- `<record_count>`: TOTAL rows\n",
    "- `<messages>`: errors + status info\n",
    "- `<status>`: success/failure of request"
   ]
  },
  {
   "cell_type": "code",
   "execution_count": null,
   "id": "0635c5e4-b5f3-49cc-9105-39215dc604dd",
   "metadata": {
    "collapsed": true,
    "jupyter": {
     "outputs_hidden": true
    }
   },
   "outputs": [],
   "source": []
  },
  {
   "cell_type": "markdown",
   "id": "59657389-1b08-48bb-a248-422cb83160db",
   "metadata": {},
   "source": [
    "## to sanity check"
   ]
  },
  {
   "attachments": {
    "4b43a924-ddfe-4b9f-9675-add7581c1470.png": {
     "image/png": "[encoded data removed]"
    }
   },
   "cell_type": "markdown",
   "id": "7c47ed4e-61f8-4e29-a9fa-e843b56c8fce",
   "metadata": {},
   "source": [
    "??\n",
    "![image.png](attachment:4b43a924-ddfe-4b9f-9675-add7581c1470.png)"
   ]
  },
  {
   "cell_type": "code",
   "execution_count": null,
   "id": "059d4353-19f4-4817-a623-6ff1218a1d08",
   "metadata": {
    "collapsed": true,
    "jupyter": {
     "outputs_hidden": true
    }
   },
   "outputs": [],
   "source": []
  },
  {
   "cell_type": "code",
   "execution_count": null,
   "id": "82d79b63-ec67-4bc1-b1c6-73c1ed7d47fe",
   "metadata": {
    "collapsed": true,
    "jupyter": {
     "outputs_hidden": true
    }
   },
   "outputs": [],
   "source": []
  },
  {
   "cell_type": "code",
   "execution_count": null,
   "id": "f79ac134-76d9-40b6-b1b5-1eaba1f0b050",
   "metadata": {
    "collapsed": true,
    "jupyter": {
     "outputs_hidden": true
    }
   },
   "outputs": [],
   "source": []
  },
  {
   "cell_type": "code",
   "execution_count": null,
   "id": "4ab77826-7d27-4387-9332-653490015adb",
   "metadata": {
    "collapsed": true,
    "jupyter": {
     "outputs_hidden": true
    }
   },
   "outputs": [],
   "source": []
  }
 ],
 "metadata": {
  "kernelspec": {
   "display_name": "Python (venv)",
   "language": "python",
   "name": "venv"
  },
  "language_info": {
   "codemirror_mode": {
    "name": "ipython",
    "version": 3
   },
   "file_extension": ".py",
   "mimetype": "text/x-python",
   "name": "python",
   "nbconvert_exporter": "python",
   "pygments_lexer": "ipython3",
   "version": "3.13.5"
  }
 },
 "nbformat": 4,
 "nbformat_minor": 5
}
