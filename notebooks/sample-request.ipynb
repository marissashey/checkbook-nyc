{
 "cells": [
  {
   "cell_type": "markdown",
   "id": "e1ccaa36",
   "metadata": {},
   "source": [
    "Notebook for testing the Spending API\n",
    "- requests: https://requests.readthedocs.io/en/latest/user/advanced/\n",
    "- xml: https://automatetheboringstuff.com/3e/chapter18.html\n",
    "- api: https://www.checkbooknyc.com/spending-api#sample-request-spending\n"
   ]
  },
  {
   "cell_type": "code",
   "execution_count": 1,
   "id": "2572b2e4",
   "metadata": {},
   "outputs": [],
   "source": [
    "import requests\n",
    "import xml.etree.ElementTree as ET\n",
    "import time"
   ]
  },
  {
   "cell_type": "code",
   "execution_count": null,
   "id": "42754152",
   "metadata": {},
   "outputs": [
    {
     "name": "stdout",
     "output_type": "stream",
     "text": [
      "main site status: 200\n"
     ]
    }
   ],
   "source": [
    "# session set up\n",
    "session = requests.Session()\n",
    "session.headers.update({\n",
    "    'user-agent': 'mozilla/5.0 (windows nt 10.0; win64; x64) applewebkit/537.36'\n",
    "})\n",
    "\n",
    "# **** visit main site initially to bypass incapsula ****\n",
    "response = session.get('https://www.checkbooknyc.com/')\n",
    "print(f\"main site status: {response.status_code}\")\n",
    "time.sleep(2)\n",
    "\n",
    "session.headers.update({\n",
    "    'content-type': 'application/xml',\n",
    "    'referer': 'https://www.checkbooknyc.com/',\n",
    "    'origin': 'https://www.checkbooknyc.com'\n",
    "})"
   ]
  },
  {
   "cell_type": "code",
   "execution_count": null,
   "id": "9d8ed4dd",
   "metadata": {},
   "outputs": [],
   "source": [
    "xml_body=\"\"\"\n",
    "<request>\n",
    "  <type_of_data>Spending</type_of_data>\n",
    "  <records_from>1</records_from>\n",
    "  <max_records>1000</max_records>\n",
    "  <search_criteria>\n",
    "    <criteria>\n",
    "      <name>agency_code</name>\n",
    "      <type>value</type>\n",
    "      <value>039</value>\n",
    "    </criteria>\n",
    "    <criteria>\n",
    "      <name>department_code</name>\n",
    "      <type>value</type>\n",
    "      <value>D22</value>\n",
    "    </criteria>\n",
    "    <criteria>\n",
    "      <name>expense_category</name>\n",
    "      <type>value</type>\n",
    "      <value>2200</value>\n",
    "    </criteria>\n",
    "    <criteria>\n",
    "      <name>document_id</name>\n",
    "      <type>value</type>\n",
    "      <value>20180011164</value>\n",
    "    </criteria>\n",
    "    <criteria>\n",
    "      <name>spending_category</name>\n",
    "      <type>value</type>\n",
    "      <value>cc</value>\n",
    "    </criteria>\n",
    "   <criteria>\n",
    "      <name>mwbe_category</name>\n",
    "      <type>value</type>\n",
    "      <value>7</value>\n",
    "    </criteria>\n",
    "   <criteria>\n",
    "      <name>industry</name>\n",
    "      <type>value</type>\n",
    "      <value>2</value>\n",
    "    </criteria>\n",
    "  </search_criteria>\n",
    "  <response_columns>\n",
    "    <column>agency</column>\n",
    "    <column>fiscal_year</column>\n",
    "    <column>document_id</column>\n",
    "    <column>payee_name</column>\n",
    "    <column>department</column>\n",
    "    <column>check_amount</column>\n",
    "    <column>expense_category</column>\n",
    "    <column>contract_id</column>\n",
    "    <column>capital_project</column>\n",
    "    <column>industry</column>\n",
    "    <column>issue_date</column>\n",
    "    <column>spending_category</column>\n",
    "    <column>mwbe_category</column>\n",
    "    <column>sub_vendor</column>\n",
    "    <column>associated_prime_vendor</column>\n",
    "    <column>sub_contract_reference_id</column>\n",
    "    <column>woman_owned_business</column>\n",
    "    <column>emerging_business</column>\n",
    "    <column>budget_code</column>\n",
    "  </response_columns>\n",
    "</request>\n",
    "\"\"\""
   ]
  },
  {
   "cell_type": "code",
   "execution_count": null,
   "id": "94bbeedb",
   "metadata": {},
   "outputs": [
    {
     "name": "stdout",
     "output_type": "stream",
     "text": [
      "record count: 1\n",
      "found 1 transactions\n",
      "\n",
      "transaction:\n",
      "  agency: Queens Borough Public Library\n",
      "  associated_prime_vendor: N/A\n",
      "  budget_code: LQTS (QUEENS LIBRARY SYSTEM: REPLACEMENT OF TE)\n",
      "  capital_project: 039LQD122TEL001\n",
      "  contract_id: CT103920171428053\n",
      "  check_amount: 35775.00\n",
      "  department: 400-039-D22\n",
      "  document_id: 20180011164-1-DSB-AD\n",
      "  expense_category: CAPITAL PURCHASED EQUIPMENT\n",
      "  fiscal_year: 2018\n",
      "  industry: Goods\n",
      "  issue_date: 2017-07-17\n",
      "  mwbe_category: Non-M/WBE\n",
      "  woman_owned_business: No \n",
      "  emerging_business: No \n",
      "  payee_name: NEW CASTLE COMMUNICATIONS INC\n",
      "  spending_category: Capital Contracts\n",
      "  sub_contract_reference_id: None\n",
      "  sub_vendor: No\n"
     ]
    }
   ],
   "source": [
    "# api call\n",
    "response = session.post('https://www.checkbooknyc.com/api', data=xml_body)\n",
    "root = ET.fromstring(response.content)\n",
    "status = root.find('.//status/result')\n",
    "\n",
    "if status.text == 'success':\n",
    "    # check record count\n",
    "    record_count = root.find('.//record_count')\n",
    "    if record_count is not None:\n",
    "        print(f\"record count: {record_count.text}\")\n",
    "    \n",
    "    # get transactions (not records)\n",
    "    transactions = root.findall('.//transaction')\n",
    "    print(f\"found {len(transactions)} transactions\")\n",
    "    \n",
    "    for transaction in transactions:\n",
    "        print(\"\\ntransaction:\")\n",
    "        for field in transaction:\n",
    "            print(f\"  {field.tag}: {field.text}\")"
   ]
  },
  {
   "cell_type": "code",
   "execution_count": 5,
   "id": "ece1b643",
   "metadata": {},
   "outputs": [
    {
     "name": "stdout",
     "output_type": "stream",
     "text": [
      "simple spending: 3 transactions\n",
      "  2024: Police Department -> OPERATIONS: $414069787.65\n",
      "  2019: Department of Education -> GE INSTR & SCH LEADERSHIP - PS: $232670699.67\n",
      "  2020: Department of Education -> GE INSTR & SCH LEADERSHIP - PS: $219225483.61\n"
     ]
    }
   ],
   "source": [
    "# simple spending data (no specific criteria)\n",
    "xml_simple_spending = \"\"\"<request>\n",
    "  <type_of_data>Spending</type_of_data>\n",
    "  <records_from>1</records_from>\n",
    "  <max_records>3</max_records>\n",
    "  <response_columns>\n",
    "    <column>agency</column>\n",
    "    <column>payee_name</column>\n",
    "    <column>check_amount</column>\n",
    "    <column>fiscal_year</column>\n",
    "  </response_columns>\n",
    "</request>\"\"\"\n",
    "\n",
    "response = session.post('https://www.checkbooknyc.com/api', data=xml_simple_spending, timeout=60)\n",
    "root = ET.fromstring(response.content)\n",
    "\n",
    "transactions = root.findall('.//transaction')\n",
    "print(f\"simple spending: {len(transactions)} transactions\")\n",
    "\n",
    "for transaction in transactions:\n",
    "    agency = transaction.find('agency').text if transaction.find('agency') is not None else 'unknown'\n",
    "    payee = transaction.find('payee_name').text if transaction.find('payee_name') is not None else 'unknown'\n",
    "    amount = transaction.find('check_amount').text if transaction.find('check_amount') is not None else '0'\n",
    "    year = transaction.find('fiscal_year').text if transaction.find('fiscal_year') is not None else 'unknown'\n",
    "    print(f\"  {year}: {agency} -> {payee}: ${amount}\")"
   ]
  },
  {
   "cell_type": "code",
   "execution_count": null,
   "id": "f1596bd7",
   "metadata": {},
   "outputs": [],
   "source": []
  }
 ],
 "metadata": {
  "kernelspec": {
   "display_name": "venv",
   "language": "python",
   "name": "python3"
  },
  "language_info": {
   "codemirror_mode": {
    "name": "ipython",
    "version": 3
   },
   "file_extension": ".py",
   "mimetype": "text/x-python",
   "name": "python",
   "nbconvert_exporter": "python",
   "pygments_lexer": "ipython3",
   "version": "3.13.5"
  }
 },
 "nbformat": 4,
 "nbformat_minor": 5
}
